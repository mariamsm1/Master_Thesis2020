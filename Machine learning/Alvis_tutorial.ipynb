{
 "cells": [
  {
   "cell_type": "markdown",
   "metadata": {},
   "source": [
    "Created by Mariam Miari on 4/20/2021"
   ]
  },
  {
   "cell_type": "markdown",
   "metadata": {},
   "source": [
    "## This tutorial will describe the steps needed to login and use Alvis cluster \n",
    "### All information about the cluster are available [here](https://www.c3se.chalmers.se/about/Alvis/).\n",
    "GPU cost on Alvis:\n",
    "\n",
    "|Type|VRAM|System memory per CPU|CPU cores per GPU|Cost|\n",
    "|---|---|---|---|---|\n",
    "|V100|32GB|96 or 192 GB | 8 |8 | \n",
    "|T4| 16GB| 72 or 192 GB | 4 | 2|\n",
    "|A100| 40GB| 192GB| 8 | 16|\n",
    "\n",
    "\n",
    "\n",
    "\n",
    "### All information about getting access are available [here](https://www.c3se.chalmers.se/documentation/getting_access/)."
   ]
  },
  {
   "cell_type": "markdown",
   "metadata": {},
   "source": [
    "## Steps required:\n",
    "If you **have** a SUPR account and already a member of a specific project, **skip** the next 4 steps:\n",
    "\n",
    "- Join [SUPR](https://supr.snic.se)\n",
    "- Login using SWAMID\n",
    "- Approve [User agreement](https://supr.snic.se/person/)\n",
    "- Ask your PI to add you to one of the existing projects.\n",
    "\n",
    "\n",
    "\n",
    "### To request an account on Alvis (now that you have SUPR account, signed the user agreement, and added to a project):\n",
    "\n",
    "- Go to 'https://supr.snic.se/account/' under \"Account Requests\" --> you will see pending account requests depending on your projects memberships.\n",
    "- Click on \"Request account\".\n",
    "- This process will take ~ 1 working day.\n",
    "- You will receive an email with your user account and another email with your one time password.\n",
    "- Change your password through the link provided in the email as soon as possible.\n",
    "\n",
    "\n",
    "\n"
   ]
  },
  {
   "cell_type": "markdown",
   "metadata": {},
   "source": [
    "### To login to Alvis, two ways are available:\n",
    "1. Through computer's terminal\n",
    "2. Through ThinLinc web : https://alvis1.c3se.chalmers.se:300\n",
    "\n",
    "**It's important to know that logging in is only permitted when connected to a network that can access the system (see [here](https://www.c3se.chalmers.se/documentation/intro-alvis/slides/#connecting)).** Therefore, you must tunnel your connection through a university, i.e. you must use a VPN.\n",
    "\n",
    "For using VPN at Lund University check [VPN guide to the guides](https://luservicedesk.service-now.com/support_en?id=kb_article_en&sys_id=aa073a82dbc520d020681ea605961987).\n",
    "\n",
    "\n",
    "\n",
    "Since I have macOS I used instructions written in [this page](https://luservicedesk.service-now.com/support_en?id=kb_article_en&sys_id=6d1d7a71dbb0ac506452cd4d0b9619f7), in principle do the following:\n",
    "\n",
    "- Open **System Preferences** and click **Network**.\n",
    "- Click on the plus sign in the lower left corner to create a new service.\n",
    "- In the window that appears, select the following:\n",
    "\n",
    "\n",
    "1. Interface: select VPN\n",
    "2. VPN type: select L2TP over IPSec\n",
    "3. Name of the Service: type optional name (eg LU VPN )\n",
    "4. Click Create\n",
    "\n",
    "\n",
    "- Server address: type vpn.lu.se\n",
    "- Under Username, enter your LucatID or StudentID\n",
    "- Click Advanced\n",
    "- **Check** Send all traffic over VPN connection and **click OK**\n",
    "- Click Authentication Settings\n",
    "\n",
    "- Fill in the following information:\n",
    "\n",
    "\n",
    "1. Password: enter your Lucat password or Student password\n",
    "2. Shared Secret: type luvpn123\n",
    "\n",
    "\n",
    "- Click OK\n",
    "- Click Finish\n",
    "- **Check** Show VPN status in the **menu bar**. That way you can connect and disconnect the VPN in the menu bar in a simple way.\n",
    "- Click the VPN symbol to connect to the VPN or disconnect the connection.\n"
   ]
  },
  {
   "cell_type": "markdown",
   "metadata": {},
   "source": [
    "**You can now log in to Alvis using the provided username (e.g. mariammi) through the terminal and ThinLinc web: <br>\n",
    "ssh username@alvis1.c3se.chalmers.se** <br>\n",
    "\n",
    "\n",
    "**The current path to our storage folder is:** <br>\n",
    "/cephyr/NOBACKUP/groups/snic2021-23-312/"
   ]
  },
  {
   "cell_type": "markdown",
   "metadata": {},
   "source": [
    "# Submitting Jobs"
   ]
  },
  {
   "cell_type": "markdown",
   "metadata": {},
   "source": [
    "### All Information about job submission and memory usage can be found [here]('https://www.c3se.chalmers.se/about/Alvis/'), [here]('https://www.c3se.chalmers.se/documentation/running_jobs/'), and [here]('https://www.c3se.chalmers.se/documentation/intro-alvis/presentation.html#/example-multi-node')"
   ]
  },
  {
   "cell_type": "markdown",
   "metadata": {},
   "source": [
    "**On Alvis, you also have a choice between NVidia Tesla A100, V100 and T4 GPUs.**\n",
    "#### Add '#' sign before each of the SBATCH lines below\n",
    ">SBATCH --gpus-per-node=V100:1 # allocates 1 V100 GPU (and 8 cores)<br>\n",
    ">SBATCH --gpus-per-node=T4:1   # allocates 1 T4 GPU (and 4 cores, but you only pay for 2)<br>\n",
    ">SBATCH --gpus-per-node=A100:1 # allocates 1 A100 GPU (and 8 cores) <br>\n",
    "\n",
    "\n",
    "\n",
    "**Note that on Alvis the V100 GPU is 4 times more expensive than a T4 GPU and a A100 is 8 times more expensive, which reflects the cost of the hardware.**"
   ]
  },
  {
   "cell_type": "markdown",
   "metadata": {},
   "source": [
    "Always remember to load the necessary modules before running the job. <br>\n",
    "Start by loading **fosscuda/2019b**. \n",
    "To check how to load TensorFlow for instance: \n",
    "> module spider TensorFlow<br>\n",
    "\n",
    "This will give different versions: <br>\n",
    "\n",
    "        TensorFlow/1.15.2-Python-3.7.4 \n",
    "        TensorFlow/2.1.0-Python-3.7.4\n",
    "        TensorFlow/2.2.0-Python-3.7.4\n",
    "        TensorFlow/2.3.1-Python-3.7.4\n",
    "        TensorFlow/2.3.1-Python-3.8.2\n",
    "        TensorFlow/2.4.1\n",
    "        \n",
    "Load the necessary version using:\n",
    "> ml (or module load) TensorFlow/1.15.2-Python-3.7.4 ."
   ]
  },
  {
   "cell_type": "markdown",
   "metadata": {},
   "source": [
    "**Example of my bash script:**\n",
    "\n",
    "#### add '#' sign before each of the SBATCH lines below and '!/bin':\n",
    "> !/bin/bash <br>\n",
    "> SBATCH -A SNIC2021-7-54 -p alvis #add your AI/ML project<br>\n",
    "> SBATCH -n 4<br>\n",
    "> SBATCH -J Model15_effnet<br>\n",
    "> SBATCH --gpus-per-node=A100:2 #You can specify V100:2 if your job isn't as computationally expensive.<br>\n",
    "> SBATCH --time=12:00:00<br>\n",
    "> SBATCH --mail-user=ma8244mi-s@student.lu.se<br>\n",
    "> SBATCH --mail-type=END<br>\n",
    "> SBATCH -o train.out<br>\n",
    "> SBATCH -e train.err<br>\n",
    "\n",
    "module load fosscuda/2019b Python/3.7.4 matplotlib/3.1.1-Python-3.7.4 TensorFlow/2.3.1-Python-3.7.4 OpenCV/4.2.0-Python-3.7.4  <br>\n",
    "python3 eff_training.py > logFile_train15_effnet.txt"
   ]
  },
  {
   "cell_type": "markdown",
   "metadata": {},
   "source": [
    "### Check the different flags available for a bash script (if needed) from [here]('https://slurm.schedmd.com/sbatch.html')"
   ]
  },
  {
   "cell_type": "markdown",
   "metadata": {},
   "source": [
    "### If you want to install packages\n",
    "create your virtual environment. The **virtualenv command is included in the Python modules. Load your favourite version of Python (and everything else you need, e.g. SciPy-bundle) from the module system first**. The first time, we create a new virtual environment **(only done once)**. Do the following steps:\n",
    "- load any python version, e.g. Python-3.7.4\n",
    "- virtualenv --system-site-packages ~/your_env_name\n",
    "- source ~/your_env_name/bin/activate #activates your environment\n",
    "- Install the packages you want (e.g. pip install imutils)"
   ]
  },
  {
   "cell_type": "markdown",
   "metadata": {},
   "source": [
    "### Run the script\n",
    "> sbatch job_script.sh"
   ]
  },
  {
   "cell_type": "markdown",
   "metadata": {},
   "source": [
    "### Check your submitted job status\n",
    "> squeue -u your_user_name"
   ]
  }
 ],
 "metadata": {
  "kernelspec": {
   "display_name": "Python 3",
   "language": "python",
   "name": "python3"
  },
  "language_info": {
   "codemirror_mode": {
    "name": "ipython",
    "version": 3
   },
   "file_extension": ".py",
   "mimetype": "text/x-python",
   "name": "python",
   "nbconvert_exporter": "python",
   "pygments_lexer": "ipython3",
   "version": "3.7.0"
  }
 },
 "nbformat": 4,
 "nbformat_minor": 2
}
