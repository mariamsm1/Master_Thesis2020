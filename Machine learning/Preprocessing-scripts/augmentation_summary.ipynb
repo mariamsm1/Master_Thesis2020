{
 "cells": [
  {
   "cell_type": "markdown",
   "id": "linear-density",
   "metadata": {},
   "source": [
    "### A-Z summary of the augmentation tasks carried out on images"
   ]
  },
  {
   "cell_type": "markdown",
   "id": "continuing-seminar",
   "metadata": {},
   "source": [
    "- I had originally the following counts for all previously augmented data:\n",
    "\n",
    "|rounds|Train| Validation|\n",
    "|--- | ---| ---| \n",
    "|round1 | 14688 | 11672| \n",
    "|round2| 18816 | 7544| \n",
    "|round3 | 19216 | 7144 | \n",
    "\n",
    "- The original number of images with and without spots is as follows:\n",
    "\n",
    "|rounds|Train_with| Train_without|Validation_with|Validation_without|\n",
    "|--- | ---| ---| ---| ---| \n",
    "|round1 | 115 | 245| 81 | 210| \n",
    "|round2| 131 | 333| 65 | 122 |\n",
    "|round3 | 146 | 332 | 50 | 123|\n",
    "\n",
    "\n",
    "- Afterwards I generated the following number of images **with spots**:\n",
    "\n",
    "|rounds|Train| Validation|\n",
    "|--- | ---| ---| \n",
    "|round1 | 130 | 129| \n",
    "|round2| 181 | 78| \n",
    "|round3 | 183 | 76 | \n",
    "\n",
    "- Total number of original images with spots compared to the images without spots:\n",
    "\n",
    "|rounds|Train_with| Train_without|Validation_with|Validation_without|\n",
    "|--- | ---| ---| ---| ---| \n",
    "|round1 | **245** | 245| **210** | 210| \n",
    "|round2| **312** | 333| **143** | 122 |\n",
    "|round3 | **328** | 332 | **126** | 123|\n",
    "\n",
    "- Total number of newly added **WITH-SPOTS** images after augmentations: \n",
    "\n",
    "|rounds|Train| Validation|\n",
    "|--- | ---| ---| \n",
    "|round1 | 3640 | 3612| \n",
    "|round2| 5068 | 2184| \n",
    "|round3 | 5124 | 2128 | \n",
    "\n",
    "- Final number of all augmented images when the newly augmented were added to the previously augmented images:\n",
    "\n",
    "|rounds|Train| Validation|\n",
    "|--- | ---| ---| \n",
    "|round1 | 18328 | 15284| \n",
    "|round2| 23884 | 9728| \n",
    "|round3 | 24340 | 9272 | "
   ]
  }
 ],
 "metadata": {
  "kernelspec": {
   "display_name": "Python 3",
   "language": "python",
   "name": "python3"
  },
  "language_info": {
   "codemirror_mode": {
    "name": "ipython",
    "version": 3
   },
   "file_extension": ".py",
   "mimetype": "text/x-python",
   "name": "python",
   "nbconvert_exporter": "python",
   "pygments_lexer": "ipython3",
   "version": "3.7.4"
  }
 },
 "nbformat": 4,
 "nbformat_minor": 5
}
