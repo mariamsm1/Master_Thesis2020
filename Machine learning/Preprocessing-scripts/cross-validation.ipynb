{
 "cells": [
  {
   "cell_type": "markdown",
   "metadata": {},
   "source": [
    "### Split the 24 lysosomes images to:\n",
    "1. 3 for test (take them aside)\n",
    "2. 14 for training\n",
    "4. 7 for validation\n",
    "\n",
    "validation and training should be shuffled to make sure it is cross validation (i.e. I will validate over the entire dataset (except the images of the test) so I take 7 images/each round for validation and the rest should be for training and so on..)."
   ]
  },
  {
   "cell_type": "code",
   "execution_count": null,
   "metadata": {},
   "outputs": [],
   "source": [
    "#BEFORE RUNNING THIS SCRIPT I CREATED A FOLDER CALLED Original_split which will contain the following folders\n",
    "\n",
    "import os\n",
    "import shutil\n",
    "import glob\n",
    "import re\n",
    "\n",
    "\n",
    "lysIm_path = '/home/marmia/snic2020-6-41/Mariam/Mariam_Thesis/Results_Pipelines_Images/Binary_Classifier_data/Lys-annotations-used'\n",
    "\n",
    "lysIms = sorted(os.listdir(lysIm_path))\n",
    "\n",
    "\n",
    "#cross validation\n",
    "#take 3 images and put them in the test directory\n",
    "# split the rest to validation and training (3 folders, in each folder put 7 for val and 14 for train)\n",
    "subdirs = ['Test', 'round1','round2','round3']\n",
    "for subdir in subdirs:\n",
    "    if not os.path.exists('Original_split/'+subdir):\n",
    "        os.makedirs('Original_split/'+subdir)\n",
    "    else:\n",
    "        os.system('rm -rf %s/*' % 'Original_split/'+subdir)\n",
    "\n",
    "#take the test first\n",
    "test = lysIms[0:3]\n",
    "for im in test:\n",
    "    shutil.copy2(os.path.join(lysIm_path, im),'Original_split/'+subdirs[0])\n",
    "\n",
    "#make Train and validation directories in round1,round2,round3\n",
    "for subdir in subdirs[1:]:\n",
    "    os.makedirs('Original_split/'+subdir+'/Train', exist_ok=True)\n",
    "    os.makedirs('Original_split/'+subdir+'/Validation', exist_ok=True)\n",
    "count = 0   \n",
    "#split the images in the images list \"lysIms\" into 7 images/each validation directory and 14 images/each training directory\n",
    "val1,train1,val2,train2,val3,train3 = lysIms[3:10],lysIms[10:],lysIms[10:17],lysIms[3:10]+lysIms[17:],lysIms[17:],lysIms[3:17]\n",
    "\n",
    "#print the images in the correct folders\n",
    "#put validation images in the Validation folders\n",
    "for i,j,k in zip(val1,val2,val3):\n",
    "    shutil.copy2(os.path.join(lysIm_path, i),'Original_split/'+subdirs[1]+'/Validation')\n",
    "    shutil.copy2(os.path.join(lysIm_path, j),'Original_split/'+subdirs[2]+'/Validation')\n",
    "    shutil.copy2(os.path.join(lysIm_path, k),'Original_split/'+subdirs[3]+'/Validation')\n",
    "    \n",
    "#put train images in the correct Train folders \n",
    "for l,m,n in zip(train1,train2,train3):\n",
    "    shutil.copy2(os.path.join(lysIm_path, l),'Original_split/'+subdirs[1]+'/Train')\n",
    "    shutil.copy2(os.path.join(lysIm_path, m),'Original_split/'+subdirs[2]+'/Train')\n",
    "    shutil.copy2(os.path.join(lysIm_path, n),'Original_split/'+subdirs[3]+'/Train')\n",
    "    \n",
    "\n",
    "    "
   ]
  },
  {
   "cell_type": "markdown",
   "metadata": {},
   "source": [
    "### Rename the images in cropcenter_withoutspots and cropcenter_withspots so they include the label at the end\n",
    "### 1 for with spots\n",
    "### 0 for without spots"
   ]
  },
  {
   "cell_type": "code",
   "execution_count": null,
   "metadata": {},
   "outputs": [],
   "source": [
    "#Get the path of the directories with and without spots\n",
    "\n",
    "path_without = '/home/marmia/snic2020-6-41/Mariam/Mariam_Thesis/Results_Pipelines_Images/Binary_Classifier_data/Cropped-center-obj/cropcenter_withoutspots'\n",
    "path_with = '/home/marmia/snic2020-6-41/Mariam/Mariam_Thesis/Results_Pipelines_Images/Binary_Classifier_data/Cropped-center-obj/cropcenter_withspots'\n",
    "\n",
    "#create one directory that will have both labels\n",
    "subdir = os.makedirs('All_labelled', exist_ok=True)\n",
    "subdir_lab = 'All_labelled/'\n",
    "        \n",
    "\n",
    "all_with = os.listdir(path_with)\n",
    "all_without = os.listdir(path_without)\n",
    "\n",
    "for im in all_with:\n",
    "    image = im.split('.png')[0]\n",
    "    image = image+'_1'+'.png'\n",
    "    #since i renamed the image, put the path of the original images+its name (src) then add the destination path with the new image name\n",
    "    shutil.copy2(os.path.join(path_with,im), os.path.join(subdir_lab,image))\n",
    "    \n",
    "for im in all_without:\n",
    "    image = im.split('.png')[0]\n",
    "    image = image+'_0'+'.png'\n",
    "    shutil.copy2(os.path.join(path_without,im), os.path.join(subdir_lab,image))"
   ]
  },
  {
   "cell_type": "markdown",
   "metadata": {},
   "source": [
    "### Finally, check if the labelled objects match the original 24 lysosome images that were split to train, validation, and test."
   ]
  },
  {
   "cell_type": "code",
   "execution_count": null,
   "metadata": {},
   "outputs": [],
   "source": [
    "#create a directory that will hold train,validation and test of the objects (not original images as above)\n",
    "os.makedirs('Objects_split', exist_ok=True)\n",
    "\n",
    "#same as above\n",
    "subdirs = ['Test', 'round1','round2','round3']\n",
    "for subdir in subdirs:\n",
    "    if not os.path.exists('Objects_split/'+subdir):\n",
    "        os.makedirs('Objects_split/'+subdir)\n",
    "    else:\n",
    "        os.system('rm -rf %s/*' % 'Objects_split/'+subdir)\n",
    "#same as above       \n",
    "for subdir in subdirs[1:]:\n",
    "    os.makedirs('Objects_split/'+subdir+'/Train', exist_ok=True)\n",
    "    os.makedirs('Objects_split/'+subdir+'/Validation', exist_ok=True)\n",
    "\n",
    "#start looking in the labelled images directory to match the objects to the original images\n",
    "labelled_im = glob.glob('All_labelled/*')\n",
    "for im in labelled_im:\n",
    "    #take only the name of the image (as the original)\n",
    "    im = im.split('/')[1]\n",
    "    image = im[:-23] + '.png'\n",
    "    #val1 is a list of original images. check which objects matches it and put in a new folder\n",
    "    if image in val1:\n",
    "        shutil.copy2(os.path.join(subdir_lab, im),'Objects_split/'+subdirs[1]+'/Validation')\n",
    "    elif image in train1:\n",
    "        shutil.copy2(os.path.join(subdir_lab, im),'Objects_split/'+subdirs[1]+'/Train')\n",
    "    if image in val2:\n",
    "        shutil.copy2(os.path.join(subdir_lab, im),'Objects_split/'+subdirs[2]+'/Validation')\n",
    "    elif image in train2:\n",
    "        shutil.copy2(os.path.join(subdir_lab, im),'Objects_split/'+subdirs[2]+'/Train')\n",
    "    if image in val3:\n",
    "        shutil.copy2(os.path.join(subdir_lab, im),'Objects_split/'+subdirs[3]+'/Validation')\n",
    "    elif image in train3:\n",
    "        shutil.copy2(os.path.join(subdir_lab, im),'Objects_split/'+subdirs[3]+'/Train')\n",
    "    if image in test:\n",
    "        shutil.copy2(os.path.join(subdir_lab, im),'Objects_split/'+subdirs[0])\n",
    "\n",
    "    \n"
   ]
  }
 ],
 "metadata": {
  "kernelspec": {
   "display_name": "Python 3",
   "language": "python",
   "name": "python3"
  },
  "language_info": {
   "codemirror_mode": {
    "name": "ipython",
    "version": 3
   },
   "file_extension": ".py",
   "mimetype": "text/x-python",
   "name": "python",
   "nbconvert_exporter": "python",
   "pygments_lexer": "ipython3",
   "version": "3.7.0"
  }
 },
 "nbformat": 4,
 "nbformat_minor": 2
}
