{
 "cells": [
  {
   "cell_type": "markdown",
   "metadata": {},
   "source": [
    "#### The following table is a summary for all the trained models\n",
    "#### Earlystopping was introduced starting from model6.\n",
    "- Final activation function for all models is softmax and the number of output neurons = 2 (binary classification).\n",
    "\n",
    "\n",
    "\n",
    "- **VGG16** is used in all the models except in **model 9_effB4** where **EfficientNetB4** was used.\n",
    "\n",
    "\n",
    "- The models were first trained on the original number of images (360 for round1 , 464 for round2 , 478 for round 3) and validated on the original number of validation images (291 for round1, 187 for round2, 173 for round3) --> **NA** (No Augmentation).\n",
    "\n",
    "\n",
    "\n",
    "- Every model's name ending with **100** is trained on augmented images (flipping + rotation) + 100 epochs --> **AUG1**.\n",
    "\n",
    "\n",
    "\n",
    "- Model9 ending with **100v2** is trained on brightness augmented images + flipping and rotation + 100 epochs --> **AUG2**.\n",
    "\n",
    "\n",
    "- Models ending with **NN** means that their images were not normalized before training. This is because in EfficientNets, the normalization is included as a part of the model.\n",
    "\n",
    "\n",
    "- Model16 ending with **v2** has the same structure as model16 except that it was trained on more images WITH spots (i.e. more augmented data) --> **AUG3**\n",
    "\n",
    "\n",
    "- No predictions were done one Model15_effB7 \t\n",
    "\n",
    "\n",
    "- why model9 was chosen to be trained on brightness + flipping+ rotation augmentations? <br>\n",
    "Based on the evaluation metrics of all the models, model9 has shown to have the best recall and f1.\n",
    "\n",
    "**P.S**: The choice of the parameters was random at the beginning - (not recommended to do it this way)- up until model6 where a more structured way of choosing the parameters was then followed.\n",
    "\n",
    "- The summary shows **AVERAGE** evaluation metrics on validation images when **av** is in the name of the heading.\n",
    "\n",
    "\n",
    "- s1,s2,s3 = split1, split2, split3 (corresponds to the cross-validation fold)"
   ]
  },
  {
   "cell_type": "markdown",
   "metadata": {},
   "source": [
    "| Model no. | No. of dense layers (hidden - hidden)| Dropout | Acivation function | No. of epochs | No. of epochs with early stopping | Number of epochs of the best saved model | Augmentation | Accuracy_av | Precision_av | Recall _av| f1_av | f1_s1 | f1_s2 | f1_s3 |\n",
    "| --- | | | | | | | | | | | | | --- | --- | \n",
    "| --- | --- | --- | --- | --- | **s1 - s2 - s3**  | **s1 - s2 - s3**  | --- | --- | --- | --- | --- | ---| --- |\n",
    "| **Model 1** | 1024 - 64 | 0.5 - 0.5 | relu - relu | 50 | (-) - (-) - (-) | 13 - 5 -17 | NA| 78.511 | 81.116 | 39.166 | **52.755** | 48.387 | 51.546 | 58.333 | \n",
    "| **Model 2** | 1024 - (-) | 0.5 | relu | 12 | (-) - (-) - (-) | 2 - 11 -12 | NA | 80.019 | 85.93 | 39.607 | **51.664**| 28.866| 72.072 | 54.054 |\n",
    "| **Model 3** | 1000 - 64 | 0.5 - 0.5 | relu - relu | 12 | (-) - (-) - (-) | 11 - 11 -3 | NA | 76.589 | 81.746 | 31.675 | **45.054** | 43.902 | 43.373 | 47.887 |\n",
    "| **Model 4** | 64 - (-) | 0.5 | relu | 50 | (-) - (-) - (-) | 6 - 1 - 1 | NA | 72.543 | 58.974 | 14.568 | **19.925**| 7.143| 0.000 | 52.632| \n",
    "| **Model 5** | 1024 - 512 | 0.5 - 0.5 | relu | 50 | (-) - (-) - (-) | 8 - 4 -16 | NA | 79.935 | 80.308 | 43.72 | **55.576** | 39.640 | 68.421 | 58.667| \n",
    "| **Model 6** | 64 - (-) | 0.2 | relu | 50 | 8 - 28 - 34 | 1 - 21 -27 | NA | 79.659| 90.063| 38.31| **46.75** | 4.819 | 70.370 | 65.060 | \n",
    "| **Model 7** | 64 - (-) | 0.5 | relu | 50 | 15 - 12 - 21 | 8 - 5 - 14 | NA | 75.447| 94.203 | 22.113 |**33.734**|17.978| 31.169| 52.055 | \n",
    "| **Model 8** | 128 - (-) | 0.5 | relu | 50 | 18 - 32 - 14 | 11 - 25 - 7 | NA | 80.721 | 83.386| 45.463| **57.182**| 40.000| 70.370 | 61.176 |\n",
    "| **Model 9** | 32 - (-) | 0.2| relu | 50 | 28 - 30 - 18 | 21 - 23 - 11 | NA | 81.743 | 85.88 | 49.465| **60.435** | 43.810| 71.560 | 65.934 |\n",
    "| **Model 9_100** | 32 - (-) | 0.2 | relu | 100 | 23 - 23 - 31 | 4 - 4 - 12 | AUG1 | 84.905 | 87.56 | 58.678 | **69.797** | 62.413| 77.674 | 69.304 |\n",
    "| **Model 9_100v2** | 32 - (-) | 0.2 | relu | 100 | 63 - 27 - 32 | 32 - 8 - 14 | AUG2 | 84.191 | 80.838 | 61.821 | **69.836** |61.732 | 79.196 | 68.581 | \n",
    "| **Model 9_effB4** | 32 - (-) | 0.2 | relu | 100 | 27 - 29 - 48 | 8 - 10 - 29 | AUG2 | 85.219 | 86.863 | 56.964 | **60.611** |90.570 | 0.307 | 90.956 | \n",
    "| **Model 9_effB4_NN** | 32 - (-) | 0.2 | relu | 100 | 23 - 35 - 32 | 4 - 16 - 13 | AUG2 | 96.689 | 97.041 | 91.491 | **94.029** |91.182 | 98.718 | 92.186 | \n",
    "| **Model 9_effB7_NN** | 32 - (-) | 0.2 | relu | 100 | 31 - 66 - 20 | 12 - 47 - 1 | AUG2 | 88.615 | 63.609 | 63.207 | **63.392** |91.659 | 98.518 | 0.000 | \n",
    "    | **Model 10** | 1024 - 64 | 0.5 - 0.2 | relu - relu | 50 | 13 - 24 - 13 | 6 - 17 - 6| NA | 79.967 | 76.191 | 48.916 | **59.307** |48.611| 74.766| 54.545| \n",
    "    | **Model 11** | 1024 - 64 | 0.5 - 0.2 | relu - tanh | 50 | 18 - 22 - 14 | 11 - 15 - 7| NA | 81.361 | 90.73 | 40.998 | **55.112** | 36.190 | 74.074 | 55.072 | \n",
    "    | **Model 12** | 1024 - 64 | 0.5 - 0.5 | relu - tanh | 50 | 18 - 48 - 20 | 11 - 41 - 13| NA | 81.885 | 84.155 | 48.753 | **60.633** |47.863 | 74.576 | 59.459 | \n",
    "    | **Model 12_100** | 1024 - 64 | 0.5 - 0.5 | relu - tanh | 100 | 48 - 43 - 46 | 29 - 24 - 27| AUG1 | 84.802 | 88.95 | 56.077 | **68.687**| 62.681 | 77.237 | 66.142 | \n",
    "    | **Model 13** | 1024 - 64 | 0.5 - 0.2 | (-) - LeakyReLU | 50 | 22 - 14 - 20 | 15 - 7 - 13| NA | 80.979 | 84.322 | 45.467 | **57.962** | 45.045 | 70.175 | 58.667 | \n",
    "    | **Model 14** | 1024 - 64 | 0.5 - 0.2 | LeakyReLU - LeakyReLU | 50 | 13 - 23 - 23 | 8 - 16 - 16| NA | 80.585 | 78.886 | 49.792 | **60.638** | 53.521 | 69.725 | 58.667 | \n",
    "    | **Model 14_100** | 1024 - 64 | 0.5 - 0.2 | LeakyReLU - LeakyReLU | 100 | 50 - 23 - 34 | 31 - 4 -15| AUG1 | 84.432| 85.526 | 57.641 | **68.635** | 62.282 | 77.670 | 65.954 | \n",
    "    | **Model 15** | 1024 - 64 | 0.5 - 0.5 | LeakyReLU - LeakyReLU | 50 | 29 - 37 - 13 | 22 - 30 - 6| NA | 81.565 | 90.352 | 44.094 | **58.872**| 53.543 | 68.000 | 55.072|\n",
    "    | **Model 15_effB7** | 1024 - 64 | 0.5 - 0.5 | LeakyReLU - LeakyReLU | 100 | 20 - 44 - 20 | 1 - 25 - 1| AUG3 | - | - | - | -| - | - | -|\n",
    "    | **Model 16_effB4_NN** | 32 - (-) | 0.2 | LeakyReLU | 100 | 40 - 22 - 63 | 21 - 3 - 44| AUG2 | 96.534 | 96.261 | 91.806 | **93.812**| 90.516 | 98.665 | 92.256|\n",
    "    | **Model 16_effB7_NN** | 32 - (-) | 0.2 | LeakyReLU | 100 | 25 - 27 - 30 | 6 - 8 - 11 | AUG2 | 96.858 | 96.294 | 92.81 | **94.444**| 91.659 | 98.721 | 92.953|\n",
    "    | **Model 16_effB7_NN_v2** | 32 - (-) | 0.2 | LeakyReLU | 100 | 27 - 51 - 30 | 8 - 32 - 5 | AUG3 | 97.018 | 97.283 | 96.182 | **96.718**| 96.760 | 98.643 | 94.751|"
   ]
  }
 ],
 "metadata": {
  "kernelspec": {
   "display_name": "Python 3",
   "language": "python",
   "name": "python3"
  },
  "language_info": {
   "codemirror_mode": {
    "name": "ipython",
    "version": 3
   },
   "file_extension": ".py",
   "mimetype": "text/x-python",
   "name": "python",
   "nbconvert_exporter": "python",
   "pygments_lexer": "ipython3",
   "version": "3.7.0"
  }
 },
 "nbformat": 4,
 "nbformat_minor": 5
}
