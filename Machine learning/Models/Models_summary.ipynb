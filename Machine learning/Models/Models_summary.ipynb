{
 "cells": [
  {
   "cell_type": "markdown",
   "id": "insured-principal",
   "metadata": {},
   "source": [
    "#### The following table is a summary for all the trained models\n",
    "#### Earlystopping was introduced starting from model6.\n",
    "- Final activation function for all models is softmax and the number of output neurons = 2 (binary classification).\n",
    "<br>\n",
    "- The models were first trained on the original number of images (360 for round1 , 464 for round2 , 478 for round 3) and validated on the original number of validation images (291 for round1, 187 for round2, 173 for round3).\n",
    "<br>\n",
    "- Every model's name ending with **100** is trained on augmented images (flipping + rotation) + 100 epochs.\n",
    "<br>\n",
    "- Model9 ending with **100v2** is trained on brightness augmented images + flipping and rotation + 100 epochs.\n",
    "<br>\n",
    "\n",
    "- why model9 was chosen to be trained on brightness + flipping+ rotation augmentations? <br>\n",
    "Based on the evaluation metrics of all the models, model9 has shown to have the best recall and f1.\n",
    "\n",
    "**P.S**: The choice of the parameters was random at the beginning - (not recommended to do it this way)- up until model6 where a more structured way of choosing the parameters was then followed.\n",
    "\n",
    "- The summary shows **AVERAGE** evaluation metrics on validation images."
   ]
  },
  {
   "cell_type": "markdown",
   "id": "greenhouse-martin",
   "metadata": {},
   "source": [
    "| Model no. | No. of dense layers (hidden - hidden)| Dropout | Acivation function | No. of epochs | No. of epochs with early stopping | Number of epochs of the best saved model | Accuracy | Precision | Recall | f1\n",
    "    | --- | --- | | | | | | | | | --- | \n",
    "    | --- | --- | | | | **split1 - split2 - split3** | **split1 - split2 - split3** | \n",
    "    | **Model 1** | 1024 - 64 | 0.5 - 0.5 | relu - relu | 50 | (-) - (-) - (-) | 13 - 5 -17 | 78.511 | 81.116 | 39.166 | 52.755| \n",
    "    | **Model 2** | 1024 - (-) | 0.5 | relu | 12 | (-) - (-) - (-) | 2 - 11 -12 | 80.019 | 85.93 | 39.607 | 51.664| \n",
    "    | **Model 3** | 1000 - 64 | 0.5 - 0.5 | relu - relu | 12 | (-) - (-) - (-) | 11 - 11 -3 | 76.589 | 81.746 | 31.675 | 45.054| \n",
    "    | **Model 4** | 64 - (-) | 0.5 | relu | 50 | (-) - (-) - (-) | 6 - 1 - 1 | 72.543 | 58.974 | 14.568 | 19.925| \n",
    "    | **Model 5** | 1024 - 512 | 0.5 - 0.5 | relu | 50 | (-) - (-) - (-) | 8 - 4 -16 | 79.935 | 80.308 | 43.72 | 55.576\n",
    "    | **Model 6** | 64 - (-) | 0.2 | relu | 50 | 8 - 28 - 34 | 1 - 21 -27 | 79.659| 90.063| 38.31| 46.75|\n",
    "    | **Model 7** | 64 - (-) | 0.5 | relu | 50 | 15 - 12 - 21 | 8 - 5 - 14 | 75.447| 94.203 | 22.113 |33.734|\n",
    "    | **Model 8** | 128 - (-) | 0.5 | relu | 50 | 18 - 32 - 14 | 11 - 25 - 7 | 80.721 | 83.386| 45.463| 57.182|\n",
    "    | **Model 9** | 32 - (-) | 0.2| relu | 50 | 28 - 30 - 18 | 21 - 23 - 11 | 81.743 | 85.88 | 49.465| 60.435 |\n",
    "    | **Model 9_100** | 32 - (-) | 0.2 | relu | 100 | 23 - 23 - 31 | 4 - 4 - 12 | 84.905 | 87.56 | 58.678 | 69.797| \n",
    "    | **Model 9_100v2** | 32 - (-) | 0.2 | relu | 100 | 63 - 27 - 32 | 32 - 8 - 14 | 84.191 | 80.838 | 61.821 | 69.836|\n",
    "    | **Model 10** | 1024 - 64 | 0.5 - 0.2 | relu - relu | 50 | 13 - 24 - 13 | 6 - 17 - 6| 79.967 | 76.191 | 48.916 | 59.307|\n",
    "    | **Model 11** | 1024 - 64 | 0.5 - 0.2 | relu - tanh | 50 | 18 - 22 - 14 | 11 - 15 - 7| 81.361 | 90.73 | 40.998 | 55.112 | \n",
    "    | **Model 12** | 1024 - 64 | 0.5 - 0.5 | relu - tanh | 50 | 18 - 48 - 20 | 11 - 41 - 13| 81.885 | 84.155 | 48.753 | 60.633|\n",
    "    | **Model 12_100** | 1024 - 64 | 0.5 - 0.5 | relu - tanh | 100 | 48 - 43 - 46 | 29 - 24 - 27| 84.802 | 88.95 | 56.077 | 68.687| \n",
    "    | **Model 13** | 1024 - 64 | 0.5 - 0.2 | (-) - LeakyReLU | 50 | 22 - 14 - 20 | 15 - 7 - 13| 80.979 | 84.322 | 45.467 | 57.962| \n",
    "    | **Model 14** | 1024 - 64 | 0.5 - 0.2 | LeakyReLU - LeakyReLU | 50 | 13 - 23 - 23 | 8 - 16 - 16| 80.585 | 78.886 | 49.792 | 60.638| \n",
    "    | **Model 14_100** | 1024 - 64 | 0.5 - 0.2 | LeakyReLU - LeakyReLU | 100 | 50 - 23 - 34 | 31 - 4 -15| 84.432| 85.526 | 57.641 | 68.635| \n",
    "    | **Model 15** | 1024 - 64 | 0.5 - 0.5 | LeakyReLU - LeakyReLU | 50 | 29 - 37 - 13 | 22 - 30 - 6| 81.565 | 90.352 | 44.094 | 58.872| "
   ]
  },
  {
   "cell_type": "code",
   "execution_count": null,
   "id": "medium-mediterranean",
   "metadata": {},
   "outputs": [],
   "source": []
  }
 ],
 "metadata": {
  "kernelspec": {
   "display_name": "Python 3",
   "language": "python",
   "name": "python3"
  },
  "language_info": {
   "codemirror_mode": {
    "name": "ipython",
    "version": 3
   },
   "file_extension": ".py",
   "mimetype": "text/x-python",
   "name": "python",
   "nbconvert_exporter": "python",
   "pygments_lexer": "ipython3",
   "version": "3.7.4"
  }
 },
 "nbformat": 4,
 "nbformat_minor": 5
}
