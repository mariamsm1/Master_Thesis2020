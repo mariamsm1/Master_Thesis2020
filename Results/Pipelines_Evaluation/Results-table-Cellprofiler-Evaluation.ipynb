{
 "cells": [
  {
   "cell_type": "markdown",
   "metadata": {},
   "source": [
    "### Description of the Pipelines\n",
    "    \n",
    "- Cellprofiler pipelines: Evaluated on validation set images obtained from https://lu.app.box.com/s/mujhztlh3i1vltai9a1ahgajkugmqkki/folder/123251275532. 6 different pipelines with different parameters were tried out on these Images.\n",
    "\n",
    "\n",
    "| Pipeline | F1 50% | 55% | 60% | 65% | 70% | 75% | 80% | 85% | 90% | 95%| Avg F1 score | Jaccard Index|\n",
    "    | --- | --- | | | | | | | | |--- | --- | --- |\n",
    "    | Pipeline1 | 0.7727 | 0.7439 | 0.7068 | 0.6530 | 0.6068 | 0.5257 | 0.4382 | 0.2720 | 0.0937 | 0.0067 | 0.4820 | 0.7280 |\n",
    "    | Pipeline 2 | 0.7737 | 0.7622 | 0.7171 | 0.6921 | 0.6535 | 0.5896 | 0.5047 | 0.3979 | 0.2063 | 0.0167 | 0.5314 | 0.7564 |\n",
    "    | Pipeline 3 | 0.8096 | 0.8014 | 0.7881 | 0.7665 | 0.7056 | 0.6405 | 0.5675 | 0.4417 | 0.2292 | 0.0158 | 0.5766 | 0.7732 |\n",
    "    | Pipeline 4 | 0.8042 | 0.7958 | 0.7610 | 0.7361 | 0.7036 | 0.6758 | 0.0538 | 0.4507 | 0.2461 | 0.0109 | 0.5778 | 0.7790 |\n",
    "    | Pipeline 5 | 0.8054 | 0.7947 | 0.7830 | 0.7512 | 0.7154 | 0.6604 | 0.6002 | 0.4547 | 0.2317 | 0.0086 | 0.5805 | 0.7832 |\n",
    "    | Pipeline 6 | 0.8065 | 0.8002 | 0.7852 | 0.7655 | 0.7172 | 0.6492 | 0.5870 | 0.4653 | 0.2410 | 0.0179 | 0.5837 | 0.7845 |\n",
    "    "
   ]
  },
  {
   "cell_type": "code",
   "execution_count": null,
   "metadata": {},
   "outputs": [],
   "source": []
  }
 ],
 "metadata": {
  "kernelspec": {
   "display_name": "Python 3",
   "language": "python",
   "name": "python3"
  },
  "language_info": {
   "codemirror_mode": {
    "name": "ipython",
    "version": 3
   },
   "file_extension": ".py",
   "mimetype": "text/x-python",
   "name": "python",
   "nbconvert_exporter": "python",
   "pygments_lexer": "ipython3",
   "version": "3.8.5"
  }
 },
 "nbformat": 4,
 "nbformat_minor": 2
}
