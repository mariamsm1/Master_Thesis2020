{
 "cells": [
  {
   "cell_type": "code",
   "execution_count": 6,
   "metadata": {},
   "outputs": [
    {
     "data": {
      "image/png": "[encoded data removed]",
      "text/plain": [
       "<Figure size 864x360 with 1 Axes>"
      ]
     },
     "metadata": {
      "needs_background": "light"
     },
     "output_type": "display_data"
    }
   ],
   "source": [
    "#FNs plot for Nuclei\n",
    "\n",
    "import numpy as np\n",
    "import matplotlib.pyplot as plt\n",
    "from matplotlib import rc\n",
    "import pandas as pd\n",
    "pipelines = ['pipeline5','pipeline6','pipeline7']\n",
    "\n",
    "#add the FN values for each size for pipe5,6,7 respectively\n",
    "Small_nuclei = [53,49,49]\n",
    "Normal_nuclei = [19,21,20]\n",
    "Large_nuclei = [9,9,8]\n",
    "\n",
    "#total is FN+TP (obtained from evaluation), sum then add below\n",
    "total = 389\n",
    "SmallNuclei = [(i / total * 100) for i in Small_nuclei]\n",
    "NormalNuclei = [(i / total * 100) for i in Normal_nuclei]\n",
    "LargeNuclei = [(i / total * 100) for i in Large_nuclei]\n",
    "\n",
    "r = [0,1,2]\n",
    "raw_data = {'Small nuclei': SmallNuclei,'Normal nuclei': NormalNuclei, 'Large nuclei': LargeNuclei}\n",
    "\n",
    "df = pd.DataFrame(raw_data, index = pipelines)\n",
    " \n",
    "#print(df)\n",
    "\n",
    "plt.figure(figsize = (12,5))\n",
    "\n",
    "plt.bar(r, SmallNuclei, color='powderblue', width=0.3)\n",
    "plt.bar(r, NormalNuclei,  bottom=SmallNuclei, color='orchid', width=0.3)\n",
    "plt.bar(r, LargeNuclei, bottom = [i+j for i,j in zip(SmallNuclei, NormalNuclei)], color = 'palegreen', width = 0.3)\n",
    "\n",
    "plt.xticks(r, pipelines, rotation = 0)\n",
    "plt.ylabel('False negative rate')\n",
    "plt.legend(raw_data)\n",
    "\n",
    "plt.show()"
   ]
  },
  {
   "cell_type": "code",
   "execution_count": 2,
   "metadata": {},
   "outputs": [
    {
     "data": {
      "text/html": [
       "<div>\n",
       "<style scoped>\n",
       "    .dataframe tbody tr th:only-of-type {\n",
       "        vertical-align: middle;\n",
       "    }\n",
       "\n",
       "    .dataframe tbody tr th {\n",
       "        vertical-align: top;\n",
       "    }\n",
       "\n",
       "    .dataframe thead th {\n",
       "        text-align: right;\n",
       "    }\n",
       "</style>\n",
       "<table border=\"1\" class=\"dataframe\">\n",
       "  <thead>\n",
       "    <tr style=\"text-align: right;\">\n",
       "      <th></th>\n",
       "      <th>Small nuclei</th>\n",
       "      <th>Normal nuclei</th>\n",
       "      <th>Large nuclei</th>\n",
       "    </tr>\n",
       "  </thead>\n",
       "  <tbody>\n",
       "    <tr>\n",
       "      <th>pipeline5</th>\n",
       "      <td>13.625%</td>\n",
       "      <td>4.884%</td>\n",
       "      <td>2.314%</td>\n",
       "    </tr>\n",
       "    <tr>\n",
       "      <th>pipeline6</th>\n",
       "      <td>12.596%</td>\n",
       "      <td>5.398%</td>\n",
       "      <td>2.314%</td>\n",
       "    </tr>\n",
       "    <tr>\n",
       "      <th>pipeline7</th>\n",
       "      <td>12.596%</td>\n",
       "      <td>5.141%</td>\n",
       "      <td>2.057%</td>\n",
       "    </tr>\n",
       "  </tbody>\n",
       "</table>\n",
       "</div>"
      ],
      "text/plain": [
       "          Small nuclei Normal nuclei Large nuclei\n",
       "pipeline5      13.625%        4.884%       2.314%\n",
       "pipeline6      12.596%        5.398%       2.314%\n",
       "pipeline7      12.596%        5.141%       2.057%"
      ]
     },
     "metadata": {},
     "output_type": "display_data"
    }
   ],
   "source": [
    "raw_data2 = {'Small nuclei':[str(\"%.3f\" % i)+'%' for i in SmallNuclei],'Normal nuclei': [str(\"%.3f\" % i)+'%' for i in NormalNuclei], 'Large nuclei': [str(\"%.3f\" % i)+'%' for i in LargeNuclei]}\n",
    "df = pd.DataFrame(raw_data2, index = pipelines)\n",
    "display(df)\n"
   ]
  },
  {
   "cell_type": "code",
   "execution_count": 3,
   "metadata": {},
   "outputs": [
    {
     "data": {
      "image/png": "[encoded data removed]",
      "text/plain": [
       "<Figure size 864x360 with 1 Axes>"
      ]
     },
     "metadata": {
      "needs_background": "light"
     },
     "output_type": "display_data"
    }
   ],
   "source": [
    "#FDR plot for Nuclei\n",
    "\n",
    "import numpy as np\n",
    "import matplotlib.pyplot as plt\n",
    "from matplotlib import rc\n",
    "import pandas as pd\n",
    "\n",
    "pipelines = ['pipeline5','pipeline6','pipeline7']\n",
    "\n",
    "#add the FDR values for pipe5,6,7 respectively\n",
    "FDR = [0.19365,0.19242,0.19375]\n",
    "\n",
    "\n",
    "percent_FDR = [i*100 for i in FDR ] \n",
    "\n",
    "r = [0,1,2] \n",
    "plt.figure(figsize = (12,5))\n",
    "    \n",
    "plt.bar(r[0], percent_FDR[0], color = 'powderblue',width=0.2, label = 'Threshold 0.7')\n",
    "plt.bar(r[1], percent_FDR[1], color = 'powderblue', width=0.2)\n",
    "plt.bar(r[2], percent_FDR[2], color = 'powderblue',width = 0.2)\n",
    "\n",
    "plt.xticks(r, pipelines, rotation = 0)\n",
    "plt.ylabel('False discovery rate')\n",
    "plt.legend()\n",
    "\n",
    "plt.show()"
   ]
  },
  {
   "cell_type": "code",
   "execution_count": 5,
   "metadata": {},
   "outputs": [
    {
     "data": {
      "text/html": [
       "<div>\n",
       "<style scoped>\n",
       "    .dataframe tbody tr th:only-of-type {\n",
       "        vertical-align: middle;\n",
       "    }\n",
       "\n",
       "    .dataframe tbody tr th {\n",
       "        vertical-align: top;\n",
       "    }\n",
       "\n",
       "    .dataframe thead th {\n",
       "        text-align: right;\n",
       "    }\n",
       "</style>\n",
       "<table border=\"1\" class=\"dataframe\">\n",
       "  <thead>\n",
       "    <tr style=\"text-align: right;\">\n",
       "      <th></th>\n",
       "      <th>70% Threshold</th>\n",
       "    </tr>\n",
       "  </thead>\n",
       "  <tbody>\n",
       "    <tr>\n",
       "      <th>pipeline5</th>\n",
       "      <td>19.365%</td>\n",
       "    </tr>\n",
       "    <tr>\n",
       "      <th>pipeline6</th>\n",
       "      <td>19.242%</td>\n",
       "    </tr>\n",
       "    <tr>\n",
       "      <th>pipeline7</th>\n",
       "      <td>19.375%</td>\n",
       "    </tr>\n",
       "  </tbody>\n",
       "</table>\n",
       "</div>"
      ],
      "text/plain": [
       "          70% Threshold\n",
       "pipeline5       19.365%\n",
       "pipeline6       19.242%\n",
       "pipeline7       19.375%"
      ]
     },
     "metadata": {},
     "output_type": "display_data"
    }
   ],
   "source": [
    "df = pd.DataFrame([str(\"%.3f\" % i)+'%' for i in percent_FDR], index = pipelines, columns = ['70% Threshold'])\n",
    "display(df)"
   ]
  }
 ],
 "metadata": {
  "kernelspec": {
   "display_name": "Python 3",
   "language": "python",
   "name": "python3"
  },
  "language_info": {
   "codemirror_mode": {
    "name": "ipython",
    "version": 3
   },
   "file_extension": ".py",
   "mimetype": "text/x-python",
   "name": "python",
   "nbconvert_exporter": "python",
   "pygments_lexer": "ipython3",
   "version": "3.7.0"
  }
 },
 "nbformat": 4,
 "nbformat_minor": 2
}
