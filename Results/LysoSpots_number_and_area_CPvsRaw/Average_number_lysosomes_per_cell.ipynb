{
 "cells": [
  {
   "cell_type": "code",
   "execution_count": 2,
   "metadata": {},
   "outputs": [
    {
     "data": {
      "image/png": "[encoded data removed]",
      "text/plain": [
       "<Figure size 864x360 with 1 Axes>"
      ]
     },
     "metadata": {
      "needs_background": "light"
     },
     "output_type": "display_data"
    }
   ],
   "source": [
    "# Use CP segmented nuclei for the best pipeline\n",
    "import matplotlib.pyplot as plt\n",
    "import pandas as pd\n",
    "import numpy as np\n",
    "\n",
    "df = pd.read_csv(\"/home/marmia/snic2020-6-41/Mariam/Mariam_Thesis/Results_Pipelines_Images/Results/CSVs_For_Plotting_CellsAndNuclei_Validation/Nuclei_to_count.csv\")\n",
    "\n",
    "\n",
    "images = df.ImageNumber.unique()\n",
    "nuclei_list= []\n",
    "for i in range(len(images)):\n",
    "    #locate the images in the file\n",
    "    data = df.loc[df.ImageNumber == images[i]].reset_index()\n",
    "    #count the number of spots in each image\n",
    "    nuclei = len(data)\n",
    "    nuclei_list.append(nuclei)\n",
    "\n",
    "#read the file that contains number of CP segmented spots\n",
    "df = pd.read_csv(\"/home/marmia/snic2020-6-41/Mariam/Mariam_Thesis/Results_Pipelines_Images/Results/CSVs_For_Plotting_CellsAndNuclei_Validation/LysoArea_CPseg_C01.csv\")\n",
    "\n",
    "images = df.ImageNumber.unique()\n",
    "count_lyso= []\n",
    "for i in range(len(images)):\n",
    "    #locate the images in the file\n",
    "    data = df.loc[df.ImageNumber == images[i]].reset_index()\n",
    "    #count the number of spots in each image\n",
    "    target = len(data)\n",
    "    count_lyso.append(target)   \n",
    "    \n",
    "#find the average number of lysosomes/nucleus in a given image \n",
    "aver_lys_per_nucleus = [i / j for i, j in zip(count_lyso, nuclei_list)] \n",
    "#aver_lys_per_nucleus = [str(\"%.2f\" % i) for i in aver_lys_per_nucleus]\n",
    "#aver_lys_per_nucleus\n",
    "\n",
    "#plot average number of lysosomes/nucleus in an image\n",
    "im = ['Image1','Image2','Image3','Image4','Image5','Image6','Image7','Image8','Image9','Image10','Image11','Image12','Image13']\n",
    "r = (0,1,2,3,4,5,6,7,8,9,10,11,12)\n",
    "plt.figure(figsize = (12,5))\n",
    "\n",
    "plt.bar(r, aver_lys_per_nucleus, color='powderblue', width=0.3)\n",
    "\n",
    "\n",
    "plt.xticks(r, im, rotation = 0)\n",
    "plt.ylabel('Average number of lysosomes/cell')\n",
    "\n",
    "plt.show();"
   ]
  }
 ],
 "metadata": {
  "kernelspec": {
   "display_name": "Python 3",
   "language": "python",
   "name": "python3"
  },
  "language_info": {
   "codemirror_mode": {
    "name": "ipython",
    "version": 3
   },
   "file_extension": ".py",
   "mimetype": "text/x-python",
   "name": "python",
   "nbconvert_exporter": "python",
   "pygments_lexer": "ipython3",
   "version": "3.7.0"
  }
 },
 "nbformat": 4,
 "nbformat_minor": 2
}
