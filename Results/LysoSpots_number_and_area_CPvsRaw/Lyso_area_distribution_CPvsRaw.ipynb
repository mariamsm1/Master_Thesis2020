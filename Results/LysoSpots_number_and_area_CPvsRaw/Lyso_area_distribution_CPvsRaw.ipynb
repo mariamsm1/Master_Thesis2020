{
 "cells": [
  {
   "cell_type": "code",
   "execution_count": 2,
   "metadata": {},
   "outputs": [
    {
     "data": {
      "image/png": "[encoded data removed]",
      "text/plain": [
       "<Figure size 1080x576 with 1 Axes>"
      ]
     },
     "metadata": {
      "needs_background": "light"
     },
     "output_type": "display_data"
    }
   ],
   "source": [
    "#find total area of lysosomal objects/image in CP vs raw\n",
    "\n",
    "import matplotlib.pyplot as plt\n",
    "import pandas as pd\n",
    "import numpy as np\n",
    "\n",
    "raw_area = []\n",
    "#save images number in a dataframe to be able to access them\n",
    "df = pd.read_csv(\"/home/marmia/snic2020-6-41/Mariam/Mariam_Thesis/Results_Pipelines_Images/Results/CSVs_For_Plotting_CellsAndNuclei_Validation/LysoArea_raw_png.csv\")\n",
    "image = df.ImageNumber.unique()\n",
    "for i in range(len(image)):\n",
    "    #loc locates rows that are under the condition\n",
    "    data = df.loc[df.ImageNumber == image[i]].reset_index()\n",
    "    Areas = data.AreaShape_Area\n",
    "    #sum the areas for each image\n",
    "    sum_area = Areas.sum()\n",
    "    raw_area.append(sum_area)\n",
    "\n",
    "\n",
    "df = pd.read_csv(\"/home/marmia/snic2020-6-41/Mariam/Mariam_Thesis/Results_Pipelines_Images/Results/CSVs_For_Plotting_CellsAndNuclei_Validation/LysoArea_CPseg_C01.csv\")\n",
    "\n",
    "images = df.ImageNumber.unique()\n",
    "cp_area = []\n",
    "for i in range(len(image)):\n",
    "    #loc locates rows that are under the condition\n",
    "    data = df.loc[df.ImageNumber == image[i]].reset_index()\n",
    "    Areas = data.AreaShape_Area\n",
    "    #sum the areas for each image\n",
    "    sum_area = Areas.sum()\n",
    "    cp_area.append(sum_area)\n",
    "\n",
    "    \n",
    "im = ['Image1','Image2','Image3','Image4','Image5','Image6','Image7','Image8','Image9','Image10','Image11','Image12','Image13']\n",
    "r = [0,1,2,3,4,5,6,7,8,9,10,11,12] \n",
    "width = 0.1\n",
    "\n",
    "fig = plt.figure(figsize=(15,8))\n",
    "ax = fig.add_subplot(111)\n",
    "first_plot = ax.bar(np.arange(len(cp_area)), raw_area, width, color='orchid', label = 'raw annotation') \n",
    "second_plot = ax.bar(np.arange(len(cp_area))+width, cp_area, width, color='powderblue', label = 'CP segmentation')\n",
    "\n",
    "\n",
    "plt.xticks(r, im, rotation = 0)\n",
    "plt.legend(loc='best')\n",
    "plt.ylabel('Sum of area')\n",
    "plt.show();    \n",
    "    \n",
    "    \n",
    "\n"
   ]
  }
 ],
 "metadata": {
  "kernelspec": {
   "display_name": "Python 3",
   "language": "python",
   "name": "python3"
  },
  "language_info": {
   "codemirror_mode": {
    "name": "ipython",
    "version": 3
   },
   "file_extension": ".py",
   "mimetype": "text/x-python",
   "name": "python",
   "nbconvert_exporter": "python",
   "pygments_lexer": "ipython3",
   "version": "3.7.0"
  }
 },
 "nbformat": 4,
 "nbformat_minor": 2
}
