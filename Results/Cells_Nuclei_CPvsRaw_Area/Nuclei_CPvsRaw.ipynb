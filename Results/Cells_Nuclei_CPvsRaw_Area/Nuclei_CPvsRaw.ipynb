{
 "cells": [
  {
   "cell_type": "markdown",
   "metadata": {},
   "source": [
    "### Nuclei plots (CP best segmentation pipeline VS raw annotations)"
   ]
  },
  {
   "cell_type": "code",
   "execution_count": 1,
   "metadata": {},
   "outputs": [
    {
     "data": {
      "image/png": "[encoded data removed]",
      "text/plain": [
       "<Figure size 1080x576 with 1 Axes>"
      ]
     },
     "metadata": {
      "needs_background": "light"
     },
     "output_type": "display_data"
    }
   ],
   "source": [
    "#Start with Nuclei\n",
    "\n",
    "import matplotlib.pyplot as plt\n",
    "import pandas as pd\n",
    "import numpy as np\n",
    "\n",
    "raw_area = []\n",
    "df = pd.read_csv(\"/home/marmia/snic2020-6-41/Mariam/Mariam_Thesis/Results_Pipelines_Images/Results/CSVs_For_Plotting_CellsAndNuclei_Validation/MyExpt_Nucleidna_png.csv\")\n",
    "image = df.ImageNumber.unique()\n",
    "for i in range(len(image)):\n",
    "    data = df.loc[df.ImageNumber == image[i]].reset_index()\n",
    "    Areas = data.AreaShape_Area\n",
    "    sum_area = Areas.sum()\n",
    "    raw_area.append(sum_area)\n",
    "\n",
    "\n",
    "df = pd.read_csv(\"/home/marmia/snic2020-6-41/Mariam/Mariam_Thesis/Results_Pipelines_Images/Results/CSVs_For_Plotting_CellsAndNuclei_Validation/MyExpt_Nuclei_C01.csv\")\n",
    "\n",
    "images = df.ImageNumber.unique()\n",
    "cp_area = []\n",
    "for i in range(len(images)):\n",
    "    data = df.loc[df.ImageNumber == images[i]].reset_index()\n",
    "    Areas = data.AreaShape_Area\n",
    "    sum_area = Areas.sum()\n",
    "    cp_area.append(sum_area)\n",
    "\n",
    "    \n",
    "im = ['Image1','Image2','Image3','Image4','Image5','Image6','Image7','Image8','Image9','Image10']\n",
    "r = [0,1,2,3,4,5,6,7,8,9] \n",
    "width = 0.1\n",
    "\n",
    "fig = plt.figure(figsize=(15,8))\n",
    "ax = fig.add_subplot(111)\n",
    "first_plot = ax.bar(np.arange(len(cp_area)), raw_area, width, color='orchid', label = 'raw annotation') \n",
    "second_plot = ax.bar(np.arange(len(cp_area))+width, cp_area, width, color='powderblue', label = 'CP segmentation')\n",
    "\n",
    "\n",
    "plt.xticks(r, im, rotation = 0)\n",
    "plt.legend(loc='best')\n",
    "plt.ylabel('Sum of nuclei area')\n",
    "plt.savefig('Nuclei_area_CPvsRawplot1.png');\n",
    "\n",
    "plt.show();    \n",
    "    \n",
    "\n",
    "\n"
   ]
  },
  {
   "cell_type": "code",
   "execution_count": 5,
   "metadata": {},
   "outputs": [],
   "source": [
    "#plot nuclei area obtained from CP vs raw as histograms\n",
    "import matplotlib.pyplot as plt\n",
    "import pandas as pd\n",
    "import numpy as np\n",
    "\n",
    "\n",
    "df_png = pd.read_csv(\"/home/marmia/snic2020-6-41/Mariam/Mariam_Thesis/Results_Pipelines_Images/Results/CSVs_For_Plotting_CellsAndNuclei_Validation/MyExpt_Nucleidna_png.csv\")\n",
    "out = open('step_AreaNuclei_png.csv', 'w')\n",
    "print('Area', 'Step' , sep = ',', file = out)\n",
    "\n",
    "images = df_png.ImageNumber.unique()\n",
    "for i in range(len(images)):\n",
    "    step_list= []\n",
    "    data = df_png.loc[df_png.ImageNumber == images[i]].reset_index()\n",
    "    area = data.AreaShape_Area\n",
    "    for j in range(len(area)):\n",
    "        step = 0\n",
    "        while True:\n",
    "            if data.AreaShape_Area[j] < step:\n",
    "                step_list.append(step)\n",
    "                break\n",
    "            step = step+50\n",
    "    for x in step_list:\n",
    "        print(images[i],x, sep =',', file = out)\n",
    "            \n",
    "\n",
    "    "
   ]
  },
  {
   "cell_type": "code",
   "execution_count": 8,
   "metadata": {},
   "outputs": [],
   "source": [
    "df_C01 = pd.read_csv(\"/home/marmia/snic2020-6-41/Mariam/Mariam_Thesis/Results_Pipelines_Images/Results/CSVs_For_Plotting_CellsAndNuclei_Validation/MyExpt_Nuclei_C01.csv\")\n",
    "\n",
    "out = open('step_AreaNuclei_C01.csv', 'w')\n",
    "print('Area', 'Step' , sep = ',', file = out)\n",
    "\n",
    "images = df_C01.ImageNumber.unique()\n",
    "for i in range(len(images)):\n",
    "    step_list= []\n",
    "    data = df_C01.loc[df_C01.ImageNumber == images[i]].reset_index()\n",
    "    area = data.AreaShape_Area\n",
    "    for j in range(len(area)):\n",
    "        step = 0\n",
    "        while True:\n",
    "            if data.AreaShape_Area[j] < step:\n",
    "                step_list.append(step)\n",
    "                break\n",
    "            step = step+50\n",
    "    for x in step_list:\n",
    "        print(images[i],x, sep =',', file = out)"
   ]
  },
  {
   "cell_type": "code",
   "execution_count": 9,
   "metadata": {},
   "outputs": [
    {
     "data": {
      "image/png": "[encoded data removed]",
      "text/plain": [
       "<Figure size 1080x576 with 1 Axes>"
      ]
     },
     "metadata": {
      "needs_background": "light"
     },
     "output_type": "display_data"
    }
   ],
   "source": [
    "df_png = pd.read_csv(\"step_AreaNuclei_png.csv\") \n",
    "df_C01 = pd.read_csv(\"step_AreaNuclei_C01.csv\") \n",
    "\n",
    "step_png = df_png.Step\n",
    "step_C01 = df_C01.Step\n",
    "\n",
    "plt.rcParams[\"figure.figsize\"] = (15,8) \n",
    "plt.hist(step_png, alpha = 0.5, bins = 80, label = 'raw annotations')\n",
    "plt.hist(step_C01, bins = 80, alpha = 0.5, label = 'CP segmentation')\n",
    "\n",
    "plt.xticks(np.arange(8800, step=400))\n",
    "plt.xlabel('Nuclei area')\n",
    "plt.ylabel('Number of nuclei')\n",
    "plt.legend(loc='upper right')\n",
    "plt.savefig('Nuclei_area_CPvsRaw.png');"
   ]
  }
 ],
 "metadata": {
  "kernelspec": {
   "display_name": "Python 3",
   "language": "python",
   "name": "python3"
  },
  "language_info": {
   "codemirror_mode": {
    "name": "ipython",
    "version": 3
   },
   "file_extension": ".py",
   "mimetype": "text/x-python",
   "name": "python",
   "nbconvert_exporter": "python",
   "pygments_lexer": "ipython3",
   "version": "3.7.4"
  }
 },
 "nbformat": 4,
 "nbformat_minor": 2
}
