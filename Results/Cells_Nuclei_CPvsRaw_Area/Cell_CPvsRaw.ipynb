{
 "cells": [
  {
   "cell_type": "markdown",
   "metadata": {},
   "source": [
    "### Nuclei plots (CP best segmentation pipeline VS raw annotations)"
   ]
  },
  {
   "cell_type": "code",
   "execution_count": 2,
   "metadata": {},
   "outputs": [
    {
     "data": {
      "image/png": "[encoded data removed]",
      "text/plain": [
       "<Figure size 1080x576 with 1 Axes>"
      ]
     },
     "metadata": {
      "needs_background": "light"
     },
     "output_type": "display_data"
    }
   ],
   "source": [
    "#Continue with Cells\n",
    "\n",
    "import matplotlib.pyplot as plt\n",
    "import pandas as pd\n",
    "import numpy as np\n",
    "\n",
    "raw_area = []\n",
    "df = pd.read_csv(\"/home/marmia/snic2020-6-41/Mariam/Mariam_Thesis/Results_Pipelines_Images/Results/CSVs_For_Plotting_CellsAndNuclei_Validation/Cell_CPvsRaw/MyExpt_Cell_png.csv\")\n",
    "image = df.ImageNumber.unique()\n",
    "for i in range(len(image)):\n",
    "    data = df.loc[df.ImageNumber == image[i]].reset_index()\n",
    "    Areas = data.AreaShape_Area\n",
    "    sum_area = Areas.sum()\n",
    "    raw_area.append(sum_area)\n",
    "\n",
    "\n",
    "df = pd.read_csv(\"/home/marmia/snic2020-6-41/Mariam/Mariam_Thesis/Results_Pipelines_Images/Results/CSVs_For_Plotting_CellsAndNuclei_Validation/Cell_CPvsRaw/MyExpt_Cell_C01.csv\")\n",
    "\n",
    "images = df.ImageNumber.unique()\n",
    "cp_area = []\n",
    "for i in range(len(images)):\n",
    "    data = df.loc[df.ImageNumber == images[i]].reset_index()\n",
    "    Areas = data.AreaShape_Area\n",
    "    sum_area = Areas.sum()\n",
    "    cp_area.append(sum_area)\n",
    "    \n",
    "im_list = []\n",
    "for i in range(1,16):\n",
    "    im = 'image' + str(i)\n",
    "    im_list.append(im)\n",
    "    \n",
    "r_list = []\n",
    "for i in range(15):\n",
    "    r_list.append(i)\n",
    "\n",
    "#r = [0,1,2,3,4,5,6,7,8,9,10,11,12] \n",
    "width = 0.1\n",
    "\n",
    "fig = plt.figure(figsize=(15,8))\n",
    "ax = fig.add_subplot(111)\n",
    "first_plot = ax.bar(np.arange(len(cp_area)), raw_area, width, color='orchid', label = 'raw annotation') \n",
    "second_plot = ax.bar(np.arange(len(cp_area))+width, cp_area, width, color='powderblue', label = 'CP segmentation')\n",
    "\n",
    "\n",
    "plt.xticks(r_list, im_list, rotation = 0)\n",
    "plt.legend(loc='best')\n",
    "plt.ylabel('Sum of cell area')\n",
    "plt.savefig('Cells_area_CPvsRaw.png');\n",
    "\n",
    "plt.show();    \n",
    "    \n",
    "\n",
    "\n"
   ]
  },
  {
   "cell_type": "code",
   "execution_count": 3,
   "metadata": {},
   "outputs": [],
   "source": [
    "#plot cells area obtained from CP vs raw as histograms\n",
    "import matplotlib.pyplot as plt\n",
    "import pandas as pd\n",
    "import numpy as np\n",
    "\n",
    "\n",
    "df_png = pd.read_csv(\"/home/marmia/snic2020-6-41/Mariam/Mariam_Thesis/Results_Pipelines_Images/Results/CSVs_For_Plotting_CellsAndNuclei_Validation/Cell_CPvsRaw/MyExpt_Cell_png.csv\")\n",
    "out = open('step_AreaCell_png.csv', 'w')\n",
    "print('Area', 'Step' , sep = ',', file = out)\n",
    "\n",
    "images = df_png.ImageNumber.unique()\n",
    "for i in range(len(images)):\n",
    "    step_list= []\n",
    "    data = df_png.loc[df_png.ImageNumber == images[i]].reset_index()\n",
    "    area = data.AreaShape_Area\n",
    "    for j in range(len(area)):\n",
    "        step = 0\n",
    "        while True:\n",
    "            if data.AreaShape_Area[j] < step:\n",
    "                step_list.append(step)\n",
    "                break\n",
    "            step = step+500\n",
    "    for x in step_list:\n",
    "        print(images[i],x, sep =',', file = out)\n",
    "            \n",
    "\n",
    "            \n",
    "    \n",
    "\n"
   ]
  },
  {
   "cell_type": "code",
   "execution_count": 6,
   "metadata": {},
   "outputs": [],
   "source": [
    "df_C01 = pd.read_csv(\"/home/marmia/snic2020-6-41/Mariam/Mariam_Thesis/Results_Pipelines_Images/Results/CSVs_For_Plotting_CellsAndNuclei_Validation/Cell_CPvsRaw/MyExpt_Cell_C01.csv\")\n",
    "\n",
    "out = open('step_AreaCell_C01.csv', 'w')\n",
    "print('Area', 'Step' , sep = ',', file = out)\n",
    "\n",
    "images = df_C01.ImageNumber.unique()\n",
    "for i in range(len(images)):\n",
    "    step_list= []\n",
    "    data = df_C01.loc[df_C01.ImageNumber == images[i]].reset_index()\n",
    "    area = data.AreaShape_Area\n",
    "    for j in range(len(area)):\n",
    "        step = 0\n",
    "        while True:\n",
    "            if data.AreaShape_Area[j] < step:\n",
    "                step_list.append(step)\n",
    "                break\n",
    "            step = step+500\n",
    "    for x in step_list:\n",
    "        print(images[i],x, sep =',', file = out)"
   ]
  },
  {
   "cell_type": "code",
   "execution_count": 7,
   "metadata": {},
   "outputs": [
    {
     "data": {
      "image/png": "[encoded data removed]",
      "text/plain": [
       "<Figure size 1080x576 with 1 Axes>"
      ]
     },
     "metadata": {
      "needs_background": "light"
     },
     "output_type": "display_data"
    }
   ],
   "source": [
    "df_png = pd.read_csv(\"step_AreaCell_png.csv\") \n",
    "df_C01 = pd.read_csv(\"step_AreaCell_C01.csv\") \n",
    "\n",
    "step_png = df_png.Step\n",
    "step_C01 = df_C01.Step\n",
    "\n",
    "plt.rcParams[\"figure.figsize\"] = (15,8) \n",
    "plt.hist(step_png, alpha = 0.5, bins = 150, label = 'raw annotations')\n",
    "plt.hist(step_C01, bins = 150, alpha = 0.5, label = 'CP segmentation')\n",
    "\n",
    "plt.xticks(np.arange(200000, step=50000))\n",
    "plt.xlabel('Cell Area')\n",
    "plt.ylabel('Number of Cells')\n",
    "plt.legend(loc='upper right')\n",
    "plt.savefig('Cells_area_CPvsRaw_plot2.png');\n",
    "\n"
   ]
  }
 ],
 "metadata": {
  "kernelspec": {
   "display_name": "Python 3",
   "language": "python",
   "name": "python3"
  },
  "language_info": {
   "codemirror_mode": {
    "name": "ipython",
    "version": 3
   },
   "file_extension": ".py",
   "mimetype": "text/x-python",
   "name": "python",
   "nbconvert_exporter": "python",
   "pygments_lexer": "ipython3",
   "version": "3.7.0"
  }
 },
 "nbformat": 4,
 "nbformat_minor": 2
}
