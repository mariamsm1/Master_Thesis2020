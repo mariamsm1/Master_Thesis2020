{
 "cells": [
  {
   "cell_type": "markdown",
   "metadata": {},
   "source": [
    "**This script converts the RGB images to gray scale and plots the lysosomes sizes of 13 boundary labeled objects**"
   ]
  },
  {
   "cell_type": "code",
   "execution_count": 1,
   "metadata": {},
   "outputs": [
    {
     "data": {
      "text/plain": [
       "<Figure size 1000x1000 with 1 Axes>"
      ]
     },
     "metadata": {},
     "output_type": "display_data"
    },
    {
     "name": "stderr",
     "output_type": "stream",
     "text": [
      "/sw/easybuild/software/Core/Anaconda3/5.3.0/lib/python3.7/site-packages/skimage/util/dtype.py:130: UserWarning: Possible precision loss when converting from int64 to float64\n",
      "  .format(dtypeobj_in, dtypeobj_out))\n",
      "/sw/easybuild/software/Core/Anaconda3/5.3.0/lib/python3.7/site-packages/skimage/io/_io.py:140: UserWarning: /home/marmia/snic2020-6-41/Mariam/Mariam_Thesis/Notebooks_Master/Segmented/MFGTMPcx7_190820120001_E02f09d1.png is a low contrast image\n",
      "  warn('%s is a low contrast image' % fname)\n",
      "/sw/easybuild/software/Core/Anaconda3/5.3.0/lib/python3.7/site-packages/skimage/util/dtype.py:126: UserWarning: Possible sign loss when converting negative image of type int64 to positive image of type uint8.\n",
      "  .format(dtypeobj_in, dtypeobj_out))\n",
      "/sw/easybuild/software/Core/Anaconda3/5.3.0/lib/python3.7/site-packages/skimage/util/dtype.py:179: UserWarning: Downcasting int64 to uint8 without scaling because max value 78 fits in uint8\n",
      "  \"value {} fits in {}\".format(a.dtype, dtype, a.max(), dtype))\n"
     ]
    },
    {
     "data": {
      "text/plain": [
       "<Figure size 1000x1000 with 1 Axes>"
      ]
     },
     "metadata": {},
     "output_type": "display_data"
    },
    {
     "name": "stderr",
     "output_type": "stream",
     "text": [
      "/sw/easybuild/software/Core/Anaconda3/5.3.0/lib/python3.7/site-packages/skimage/io/_io.py:140: UserWarning: /home/marmia/snic2020-6-41/Mariam/Mariam_Thesis/Notebooks_Master/Segmented/MFGTMPcx7_190819130001_L02f09d1.png is a low contrast image\n",
      "  warn('%s is a low contrast image' % fname)\n",
      "/sw/easybuild/software/Core/Anaconda3/5.3.0/lib/python3.7/site-packages/skimage/util/dtype.py:179: UserWarning: Downcasting int64 to uint8 without scaling because max value 90 fits in uint8\n",
      "  \"value {} fits in {}\".format(a.dtype, dtype, a.max(), dtype))\n"
     ]
    },
    {
     "data": {
      "text/plain": [
       "<Figure size 1000x1000 with 1 Axes>"
      ]
     },
     "metadata": {},
     "output_type": "display_data"
    },
    {
     "name": "stderr",
     "output_type": "stream",
     "text": [
      "/sw/easybuild/software/Core/Anaconda3/5.3.0/lib/python3.7/site-packages/skimage/io/_io.py:140: UserWarning: /home/marmia/snic2020-6-41/Mariam/Mariam_Thesis/Notebooks_Master/Segmented/MFGTMPcx7_170710230001_B23f14d1.png is a low contrast image\n",
      "  warn('%s is a low contrast image' % fname)\n",
      "/sw/easybuild/software/Core/Anaconda3/5.3.0/lib/python3.7/site-packages/skimage/util/dtype.py:179: UserWarning: Downcasting int64 to uint8 without scaling because max value 69 fits in uint8\n",
      "  \"value {} fits in {}\".format(a.dtype, dtype, a.max(), dtype))\n"
     ]
    },
    {
     "data": {
      "text/plain": [
       "<Figure size 1000x1000 with 1 Axes>"
      ]
     },
     "metadata": {},
     "output_type": "display_data"
    },
    {
     "name": "stderr",
     "output_type": "stream",
     "text": [
      "/sw/easybuild/software/Core/Anaconda3/5.3.0/lib/python3.7/site-packages/skimage/io/_io.py:140: UserWarning: /home/marmia/snic2020-6-41/Mariam/Mariam_Thesis/Notebooks_Master/Segmented/MFGTMPcx7_170712160001_E02f11d1.png is a low contrast image\n",
      "  warn('%s is a low contrast image' % fname)\n",
      "/sw/easybuild/software/Core/Anaconda3/5.3.0/lib/python3.7/site-packages/skimage/util/dtype.py:179: UserWarning: Downcasting int64 to uint8 without scaling because max value 57 fits in uint8\n",
      "  \"value {} fits in {}\".format(a.dtype, dtype, a.max(), dtype))\n"
     ]
    },
    {
     "data": {
      "text/plain": [
       "<Figure size 1000x1000 with 1 Axes>"
      ]
     },
     "metadata": {},
     "output_type": "display_data"
    },
    {
     "name": "stderr",
     "output_type": "stream",
     "text": [
      "/sw/easybuild/software/Core/Anaconda3/5.3.0/lib/python3.7/site-packages/skimage/io/_io.py:140: UserWarning: /home/marmia/snic2020-6-41/Mariam/Mariam_Thesis/Notebooks_Master/Segmented/MFGTMPcx7_170624200001_B23f00d1.png is a low contrast image\n",
      "  warn('%s is a low contrast image' % fname)\n",
      "/sw/easybuild/software/Core/Anaconda3/5.3.0/lib/python3.7/site-packages/skimage/util/dtype.py:179: UserWarning: Downcasting int64 to uint8 without scaling because max value 141 fits in uint8\n",
      "  \"value {} fits in {}\".format(a.dtype, dtype, a.max(), dtype))\n"
     ]
    },
    {
     "data": {
      "text/plain": [
       "<Figure size 1000x1000 with 1 Axes>"
      ]
     },
     "metadata": {},
     "output_type": "display_data"
    },
    {
     "name": "stderr",
     "output_type": "stream",
     "text": [
      "/sw/easybuild/software/Core/Anaconda3/5.3.0/lib/python3.7/site-packages/skimage/io/_io.py:140: UserWarning: /home/marmia/snic2020-6-41/Mariam/Mariam_Thesis/Notebooks_Master/Segmented/MFGTMPcx7_170528090001_B23f03d1.png is a low contrast image\n",
      "  warn('%s is a low contrast image' % fname)\n",
      "/sw/easybuild/software/Core/Anaconda3/5.3.0/lib/python3.7/site-packages/skimage/util/dtype.py:179: UserWarning: Downcasting int64 to uint8 without scaling because max value 63 fits in uint8\n",
      "  \"value {} fits in {}\".format(a.dtype, dtype, a.max(), dtype))\n"
     ]
    },
    {
     "data": {
      "text/plain": [
       "<Figure size 1000x1000 with 1 Axes>"
      ]
     },
     "metadata": {},
     "output_type": "display_data"
    },
    {
     "name": "stderr",
     "output_type": "stream",
     "text": [
      "/sw/easybuild/software/Core/Anaconda3/5.3.0/lib/python3.7/site-packages/skimage/io/_io.py:140: UserWarning: /home/marmia/snic2020-6-41/Mariam/Mariam_Thesis/Notebooks_Master/Segmented/MFGTMPcx7_170529170001_E02f00d1.png is a low contrast image\n",
      "  warn('%s is a low contrast image' % fname)\n"
     ]
    },
    {
     "data": {
      "text/plain": [
       "<Figure size 1000x1000 with 1 Axes>"
      ]
     },
     "metadata": {},
     "output_type": "display_data"
    },
    {
     "name": "stderr",
     "output_type": "stream",
     "text": [
      "/sw/easybuild/software/Core/Anaconda3/5.3.0/lib/python3.7/site-packages/skimage/io/_io.py:140: UserWarning: /home/marmia/snic2020-6-41/Mariam/Mariam_Thesis/Notebooks_Master/Segmented/MFGTMPcx7_170721070001_B23f14d1.png is a low contrast image\n",
      "  warn('%s is a low contrast image' % fname)\n",
      "/sw/easybuild/software/Core/Anaconda3/5.3.0/lib/python3.7/site-packages/skimage/util/dtype.py:179: UserWarning: Downcasting int64 to uint8 without scaling because max value 120 fits in uint8\n",
      "  \"value {} fits in {}\".format(a.dtype, dtype, a.max(), dtype))\n"
     ]
    },
    {
     "data": {
      "text/plain": [
       "<Figure size 1000x1000 with 1 Axes>"
      ]
     },
     "metadata": {},
     "output_type": "display_data"
    },
    {
     "name": "stderr",
     "output_type": "stream",
     "text": [
      "/sw/easybuild/software/Core/Anaconda3/5.3.0/lib/python3.7/site-packages/skimage/io/_io.py:140: UserWarning: /home/marmia/snic2020-6-41/Mariam/Mariam_Thesis/Notebooks_Master/Segmented/MFGTMPcx7_170731190001_B23f07d1.png is a low contrast image\n",
      "  warn('%s is a low contrast image' % fname)\n",
      "/sw/easybuild/software/Core/Anaconda3/5.3.0/lib/python3.7/site-packages/skimage/util/dtype.py:179: UserWarning: Downcasting int64 to uint8 without scaling because max value 117 fits in uint8\n",
      "  \"value {} fits in {}\".format(a.dtype, dtype, a.max(), dtype))\n"
     ]
    },
    {
     "data": {
      "text/plain": [
       "<Figure size 1000x1000 with 1 Axes>"
      ]
     },
     "metadata": {},
     "output_type": "display_data"
    },
    {
     "name": "stderr",
     "output_type": "stream",
     "text": [
      "/sw/easybuild/software/Core/Anaconda3/5.3.0/lib/python3.7/site-packages/skimage/io/_io.py:140: UserWarning: /home/marmia/snic2020-6-41/Mariam/Mariam_Thesis/Notebooks_Master/Segmented/MFGTMPcx7_170619050001_N23f07d1.png is a low contrast image\n",
      "  warn('%s is a low contrast image' % fname)\n",
      "/sw/easybuild/software/Core/Anaconda3/5.3.0/lib/python3.7/site-packages/skimage/util/dtype.py:179: UserWarning: Downcasting int64 to uint8 without scaling because max value 30 fits in uint8\n",
      "  \"value {} fits in {}\".format(a.dtype, dtype, a.max(), dtype))\n"
     ]
    },
    {
     "data": {
      "text/plain": [
       "<Figure size 1000x1000 with 1 Axes>"
      ]
     },
     "metadata": {},
     "output_type": "display_data"
    },
    {
     "name": "stderr",
     "output_type": "stream",
     "text": [
      "/sw/easybuild/software/Core/Anaconda3/5.3.0/lib/python3.7/site-packages/skimage/io/_io.py:140: UserWarning: /home/marmia/snic2020-6-41/Mariam/Mariam_Thesis/Notebooks_Master/Segmented/MFGTMPcx7_170702090001_L02f13d1.png is a low contrast image\n",
      "  warn('%s is a low contrast image' % fname)\n",
      "/sw/easybuild/software/Core/Anaconda3/5.3.0/lib/python3.7/site-packages/skimage/util/dtype.py:179: UserWarning: Downcasting int64 to uint8 without scaling because max value 75 fits in uint8\n",
      "  \"value {} fits in {}\".format(a.dtype, dtype, a.max(), dtype))\n"
     ]
    },
    {
     "data": {
      "text/plain": [
       "<Figure size 1000x1000 with 1 Axes>"
      ]
     },
     "metadata": {},
     "output_type": "display_data"
    },
    {
     "name": "stderr",
     "output_type": "stream",
     "text": [
      "/sw/easybuild/software/Core/Anaconda3/5.3.0/lib/python3.7/site-packages/skimage/io/_io.py:140: UserWarning: /home/marmia/snic2020-6-41/Mariam/Mariam_Thesis/Notebooks_Master/Segmented/MFGTMPcx7_170624160001_O02f05d1.png is a low contrast image\n",
      "  warn('%s is a low contrast image' % fname)\n",
      "/sw/easybuild/software/Core/Anaconda3/5.3.0/lib/python3.7/site-packages/skimage/util/dtype.py:179: UserWarning: Downcasting int64 to uint8 without scaling because max value 192 fits in uint8\n",
      "  \"value {} fits in {}\".format(a.dtype, dtype, a.max(), dtype))\n"
     ]
    },
    {
     "data": {
      "text/plain": [
       "<Figure size 1000x1000 with 1 Axes>"
      ]
     },
     "metadata": {},
     "output_type": "display_data"
    },
    {
     "name": "stderr",
     "output_type": "stream",
     "text": [
      "/sw/easybuild/software/Core/Anaconda3/5.3.0/lib/python3.7/site-packages/skimage/io/_io.py:140: UserWarning: /home/marmia/snic2020-6-41/Mariam/Mariam_Thesis/Notebooks_Master/Segmented/MFGTMPcx7_170608160001_L02f02d1.png is a low contrast image\n",
      "  warn('%s is a low contrast image' % fname)\n",
      "/sw/easybuild/software/Core/Anaconda3/5.3.0/lib/python3.7/site-packages/skimage/util/dtype.py:179: UserWarning: Downcasting int64 to uint8 without scaling because max value 42 fits in uint8\n",
      "  \"value {} fits in {}\".format(a.dtype, dtype, a.max(), dtype))\n"
     ]
    }
   ],
   "source": [
    "import skimage.io\n",
    "import skimage.morphology\n",
    "import os\n",
    "import matplotlib.pyplot as plt\n",
    "import numpy as np\n",
    "import pandas as pd\n",
    "from skimage.color import rgb2gray,rgb2lab\n",
    "config_vars = {}\n",
    "\n",
    "images_list =  os.listdir('/home/marmia/Mariam_Thesis/Evaluation_Data/Ground_Truth/Lysosomes')\n",
    "\n",
    "for image_name in images_list:\n",
    "    full_path_loading_img = '/home/marmia/Mariam_Thesis/Evaluation_Data/Ground_Truth/Lysosomes/' + image_name\n",
    "    config_vars[\"labels_out_dir\"] = '/home/marmia/snic2020-6-41/Mariam/Mariam_Thesis/Notebooks_Master/Segmented/'\n",
    "    full_path_saving_img = config_vars[\"labels_out_dir\"] + image_name\n",
    "    im = skimage.io.imread(full_path_loading_img)\n",
    "    im = rgb2lab(im)\n",
    "    im2 = im[:,:,:]\n",
    "\n",
    "    annot = skimage.morphology.label(im2)\n",
    "    plt.figure(figsize=(,10))\n",
    "    plt.imshow(annot)\n",
    "    plt.show()\n",
    "\n",
    "\n",
    "    skimage.io.imsave(full_path_saving_img,annot)"
   ]
  },
  {
   "cell_type": "code",
   "execution_count": 2,
   "metadata": {},
   "outputs": [
    {
     "ename": "EmptyDataError",
     "evalue": "No columns to parse from file",
     "output_type": "error",
     "traceback": [
      "\u001b[0;31m---------------------------------------------------------------------------\u001b[0m",
      "\u001b[0;31mEmptyDataError\u001b[0m                            Traceback (most recent call last)",
      "\u001b[0;32m<ipython-input-2-78d27ff971d3>\u001b[0m in \u001b[0;36m<module>\u001b[0;34m()\u001b[0m\n\u001b[1;32m     28\u001b[0m \u001b[0;34m\u001b[0m\u001b[0m\n\u001b[1;32m     29\u001b[0m \u001b[0;34m\u001b[0m\u001b[0m\n\u001b[0;32m---> 30\u001b[0;31m \u001b[0mdf\u001b[0m \u001b[0;34m=\u001b[0m \u001b[0mpd\u001b[0m\u001b[0;34m.\u001b[0m\u001b[0mread_csv\u001b[0m\u001b[0;34m(\u001b[0m\u001b[0;34m\"step_AreaLyso.csv\"\u001b[0m\u001b[0;34m)\u001b[0m\u001b[0;34m\u001b[0m\u001b[0m\n\u001b[0m\u001b[1;32m     31\u001b[0m \u001b[0;34m\u001b[0m\u001b[0m\n\u001b[1;32m     32\u001b[0m \u001b[0mstep\u001b[0m \u001b[0;34m=\u001b[0m \u001b[0mdf\u001b[0m\u001b[0;34m.\u001b[0m\u001b[0mStep\u001b[0m\u001b[0;34m\u001b[0m\u001b[0m\n",
      "\u001b[0;32m/sw/easybuild/software/Core/Anaconda3/5.3.0/lib/python3.7/site-packages/pandas/io/parsers.py\u001b[0m in \u001b[0;36mparser_f\u001b[0;34m(filepath_or_buffer, sep, delimiter, header, names, index_col, usecols, squeeze, prefix, mangle_dupe_cols, dtype, engine, converters, true_values, false_values, skipinitialspace, skiprows, nrows, na_values, keep_default_na, na_filter, verbose, skip_blank_lines, parse_dates, infer_datetime_format, keep_date_col, date_parser, dayfirst, iterator, chunksize, compression, thousands, decimal, lineterminator, quotechar, quoting, escapechar, comment, encoding, dialect, tupleize_cols, error_bad_lines, warn_bad_lines, skipfooter, doublequote, delim_whitespace, low_memory, memory_map, float_precision)\u001b[0m\n\u001b[1;32m    676\u001b[0m                     skip_blank_lines=skip_blank_lines)\n\u001b[1;32m    677\u001b[0m \u001b[0;34m\u001b[0m\u001b[0m\n\u001b[0;32m--> 678\u001b[0;31m         \u001b[0;32mreturn\u001b[0m \u001b[0m_read\u001b[0m\u001b[0;34m(\u001b[0m\u001b[0mfilepath_or_buffer\u001b[0m\u001b[0;34m,\u001b[0m \u001b[0mkwds\u001b[0m\u001b[0;34m)\u001b[0m\u001b[0;34m\u001b[0m\u001b[0m\n\u001b[0m\u001b[1;32m    679\u001b[0m \u001b[0;34m\u001b[0m\u001b[0m\n\u001b[1;32m    680\u001b[0m     \u001b[0mparser_f\u001b[0m\u001b[0;34m.\u001b[0m\u001b[0m__name__\u001b[0m \u001b[0;34m=\u001b[0m \u001b[0mname\u001b[0m\u001b[0;34m\u001b[0m\u001b[0m\n",
      "\u001b[0;32m/sw/easybuild/software/Core/Anaconda3/5.3.0/lib/python3.7/site-packages/pandas/io/parsers.py\u001b[0m in \u001b[0;36m_read\u001b[0;34m(filepath_or_buffer, kwds)\u001b[0m\n\u001b[1;32m    438\u001b[0m \u001b[0;34m\u001b[0m\u001b[0m\n\u001b[1;32m    439\u001b[0m     \u001b[0;31m# Create the parser.\u001b[0m\u001b[0;34m\u001b[0m\u001b[0;34m\u001b[0m\u001b[0m\n\u001b[0;32m--> 440\u001b[0;31m     \u001b[0mparser\u001b[0m \u001b[0;34m=\u001b[0m \u001b[0mTextFileReader\u001b[0m\u001b[0;34m(\u001b[0m\u001b[0mfilepath_or_buffer\u001b[0m\u001b[0;34m,\u001b[0m \u001b[0;34m**\u001b[0m\u001b[0mkwds\u001b[0m\u001b[0;34m)\u001b[0m\u001b[0;34m\u001b[0m\u001b[0m\n\u001b[0m\u001b[1;32m    441\u001b[0m \u001b[0;34m\u001b[0m\u001b[0m\n\u001b[1;32m    442\u001b[0m     \u001b[0;32mif\u001b[0m \u001b[0mchunksize\u001b[0m \u001b[0;32mor\u001b[0m \u001b[0miterator\u001b[0m\u001b[0;34m:\u001b[0m\u001b[0;34m\u001b[0m\u001b[0m\n",
      "\u001b[0;32m/sw/easybuild/software/Core/Anaconda3/5.3.0/lib/python3.7/site-packages/pandas/io/parsers.py\u001b[0m in \u001b[0;36m__init__\u001b[0;34m(self, f, engine, **kwds)\u001b[0m\n\u001b[1;32m    785\u001b[0m             \u001b[0mself\u001b[0m\u001b[0;34m.\u001b[0m\u001b[0moptions\u001b[0m\u001b[0;34m[\u001b[0m\u001b[0;34m'has_index_names'\u001b[0m\u001b[0;34m]\u001b[0m \u001b[0;34m=\u001b[0m \u001b[0mkwds\u001b[0m\u001b[0;34m[\u001b[0m\u001b[0;34m'has_index_names'\u001b[0m\u001b[0;34m]\u001b[0m\u001b[0;34m\u001b[0m\u001b[0m\n\u001b[1;32m    786\u001b[0m \u001b[0;34m\u001b[0m\u001b[0m\n\u001b[0;32m--> 787\u001b[0;31m         \u001b[0mself\u001b[0m\u001b[0;34m.\u001b[0m\u001b[0m_make_engine\u001b[0m\u001b[0;34m(\u001b[0m\u001b[0mself\u001b[0m\u001b[0;34m.\u001b[0m\u001b[0mengine\u001b[0m\u001b[0;34m)\u001b[0m\u001b[0;34m\u001b[0m\u001b[0m\n\u001b[0m\u001b[1;32m    788\u001b[0m \u001b[0;34m\u001b[0m\u001b[0m\n\u001b[1;32m    789\u001b[0m     \u001b[0;32mdef\u001b[0m \u001b[0mclose\u001b[0m\u001b[0;34m(\u001b[0m\u001b[0mself\u001b[0m\u001b[0;34m)\u001b[0m\u001b[0;34m:\u001b[0m\u001b[0;34m\u001b[0m\u001b[0m\n",
      "\u001b[0;32m/sw/easybuild/software/Core/Anaconda3/5.3.0/lib/python3.7/site-packages/pandas/io/parsers.py\u001b[0m in \u001b[0;36m_make_engine\u001b[0;34m(self, engine)\u001b[0m\n\u001b[1;32m   1012\u001b[0m     \u001b[0;32mdef\u001b[0m \u001b[0m_make_engine\u001b[0m\u001b[0;34m(\u001b[0m\u001b[0mself\u001b[0m\u001b[0;34m,\u001b[0m \u001b[0mengine\u001b[0m\u001b[0;34m=\u001b[0m\u001b[0;34m'c'\u001b[0m\u001b[0;34m)\u001b[0m\u001b[0;34m:\u001b[0m\u001b[0;34m\u001b[0m\u001b[0m\n\u001b[1;32m   1013\u001b[0m         \u001b[0;32mif\u001b[0m \u001b[0mengine\u001b[0m \u001b[0;34m==\u001b[0m \u001b[0;34m'c'\u001b[0m\u001b[0;34m:\u001b[0m\u001b[0;34m\u001b[0m\u001b[0m\n\u001b[0;32m-> 1014\u001b[0;31m             \u001b[0mself\u001b[0m\u001b[0;34m.\u001b[0m\u001b[0m_engine\u001b[0m \u001b[0;34m=\u001b[0m \u001b[0mCParserWrapper\u001b[0m\u001b[0;34m(\u001b[0m\u001b[0mself\u001b[0m\u001b[0;34m.\u001b[0m\u001b[0mf\u001b[0m\u001b[0;34m,\u001b[0m \u001b[0;34m**\u001b[0m\u001b[0mself\u001b[0m\u001b[0;34m.\u001b[0m\u001b[0moptions\u001b[0m\u001b[0;34m)\u001b[0m\u001b[0;34m\u001b[0m\u001b[0m\n\u001b[0m\u001b[1;32m   1015\u001b[0m         \u001b[0;32melse\u001b[0m\u001b[0;34m:\u001b[0m\u001b[0;34m\u001b[0m\u001b[0m\n\u001b[1;32m   1016\u001b[0m             \u001b[0;32mif\u001b[0m \u001b[0mengine\u001b[0m \u001b[0;34m==\u001b[0m \u001b[0;34m'python'\u001b[0m\u001b[0;34m:\u001b[0m\u001b[0;34m\u001b[0m\u001b[0m\n",
      "\u001b[0;32m/sw/easybuild/software/Core/Anaconda3/5.3.0/lib/python3.7/site-packages/pandas/io/parsers.py\u001b[0m in \u001b[0;36m__init__\u001b[0;34m(self, src, **kwds)\u001b[0m\n\u001b[1;32m   1706\u001b[0m         \u001b[0mkwds\u001b[0m\u001b[0;34m[\u001b[0m\u001b[0;34m'usecols'\u001b[0m\u001b[0;34m]\u001b[0m \u001b[0;34m=\u001b[0m \u001b[0mself\u001b[0m\u001b[0;34m.\u001b[0m\u001b[0musecols\u001b[0m\u001b[0;34m\u001b[0m\u001b[0m\n\u001b[1;32m   1707\u001b[0m \u001b[0;34m\u001b[0m\u001b[0m\n\u001b[0;32m-> 1708\u001b[0;31m         \u001b[0mself\u001b[0m\u001b[0;34m.\u001b[0m\u001b[0m_reader\u001b[0m \u001b[0;34m=\u001b[0m \u001b[0mparsers\u001b[0m\u001b[0;34m.\u001b[0m\u001b[0mTextReader\u001b[0m\u001b[0;34m(\u001b[0m\u001b[0msrc\u001b[0m\u001b[0;34m,\u001b[0m \u001b[0;34m**\u001b[0m\u001b[0mkwds\u001b[0m\u001b[0;34m)\u001b[0m\u001b[0;34m\u001b[0m\u001b[0m\n\u001b[0m\u001b[1;32m   1709\u001b[0m \u001b[0;34m\u001b[0m\u001b[0m\n\u001b[1;32m   1710\u001b[0m         \u001b[0mpassed_names\u001b[0m \u001b[0;34m=\u001b[0m \u001b[0mself\u001b[0m\u001b[0;34m.\u001b[0m\u001b[0mnames\u001b[0m \u001b[0;32mis\u001b[0m \u001b[0;32mNone\u001b[0m\u001b[0;34m\u001b[0m\u001b[0m\n",
      "\u001b[0;32mpandas/_libs/parsers.pyx\u001b[0m in \u001b[0;36mpandas._libs.parsers.TextReader.__cinit__\u001b[0;34m()\u001b[0m\n",
      "\u001b[0;31mEmptyDataError\u001b[0m: No columns to parse from file"
     ]
    }
   ],
   "source": [
    "import matplotlib.pyplot as plt\n",
    "import pandas as pd\n",
    "import numpy as np\n",
    "\n",
    "\n",
    "df = pd.read_csv(\"/home/marmia/Mariam_Thesis/Lyso_areaCell_png.csv\")\n",
    "out = open('step_AreaLyso.csv', 'w')\n",
    "print('Area', 'Step' , sep = ',', file = out)\n",
    "\n",
    "#save images number in a dataframe to be able to access them\n",
    "images = df.ImageNumber.unique()\n",
    "for i in range(len(images)):\n",
    "    step_list= []\n",
    "    #locate the images in the file\n",
    "    data = df.loc[df.ImageNumber == images[i]].reset_index()\n",
    "    #locate intensities for each image\n",
    "    area = data.AreaShape_Area\n",
    "    for j in range(len(area)):\n",
    "        #empty the step for each intensty value\n",
    "        step = 0\n",
    "        while True:\n",
    "            if data.AreaShape_Area[j] < step:\n",
    "                step_list.append(step)\n",
    "                break\n",
    "            step = step+5\n",
    "    for x in step_list:\n",
    "        print(images[i],x, sep =',', file = out)\n",
    "            \n",
    "        \n",
    "df = pd.read_csv(\"step_AreaLyso.csv\") \n",
    "\n",
    "step = df.Step\n",
    "plt.rcParams[\"figure.figsize\"] = (15,8)\n",
    "plt.hist(step, bins = 100)\n",
    "plt.xticks(np.arange(100, step=5))\n",
    "plt.xlabel('Lysosomes Area')\n",
    "plt.ylabel('Number of Lysosomes')\n",
    "plt.savefig('d0_AreaLyso.png')\n"
   ]
  }
 ],
 "metadata": {
  "kernelspec": {
   "display_name": "Python 3",
   "language": "python",
   "name": "python3"
  },
  "language_info": {
   "codemirror_mode": {
    "name": "ipython",
    "version": 3
   },
   "file_extension": ".py",
   "mimetype": "text/x-python",
   "name": "python",
   "nbconvert_exporter": "python",
   "pygments_lexer": "ipython3",
   "version": "3.7.0"
  }
 },
 "nbformat": 4,
 "nbformat_minor": 2
}
