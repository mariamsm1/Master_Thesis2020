{
 "cells": [
  {
   "cell_type": "markdown",
   "metadata": {},
   "source": [
    "### Description of the models\n",
    "    \n",
    "- Cellprofiler pipelines: Evaluated on validation set images obtained from https://lu.app.box.com/s/mujhztlh3i1vltai9a1ahgajkugmqkki/folder/123251275532. 6 different pipelines with different parameters were tried out on these Images.\n",
    "\n",
    "\n",
    "| Pipeline | F1 50% | 55% | 60% | 65% | 70% | 75% | 80% | 85% | 90% | 95%| Avg F1 score | Jaccard Index|\n",
    "    | --- | --- | | | | | | | | |--- | --- | --- |\n",
    "    | Pipeline1 | 0.7727 | 0.7402 | 0.7043 | 0.6546 | 0.6011 | 0.5321 | 0.4357 | 0.2680 | 0.1006 | 0.0067 | 0.4816 | 0.7276 |\n",
    "    | Pipeline 2 | 0.7698 | 0.7583 | 0.7132 | 0.6806 | 0.6446 | 0.5907 | 0.4900 | 0.3941 | 0.2038 | 0.0192 | 0.5264 | 0.7511 |\n",
    "    | Pipeline 3 | 0.8112 | 0.7984 | 0.7825 | 0.7631 | 0.7016 | 0.6457 | 0.5625 | 0.4379 | 0.2291 | 0.0146 | 0.5747 | 0.7690 |\n",
    "    | Pipeline 4 | 0.8054 | 0.7994 | 0.7645 | 0.7396 | 0.7027 | 0.6738 | 0.5898 | 0.4495 | 0.2332 | 0.0134 | 0.5771 | 0.7797 |\n",
    "    | Pipeline 5 | 0.8092 | 0.8027 | 0.7789 | 0.7550 | 0.7154 | 0.6668 | 0.5947 | 0.4528 | 0.2295 | 0.0056 | 0.5811 | 0.7831 |\n",
    "    | Pipeline 6 | 0.8108 | 0.8046 | 0.7868 | 0.7607 | 0.7158 | 0.6590 | 0.5839 | 0.4670 | 0.2526 | 0.0197 | 0.5861 | 0.7842 |\n",
    "    "
   ]
  },
  {
   "cell_type": "code",
   "execution_count": null,
   "metadata": {},
   "outputs": [],
   "source": []
  }
 ],
 "metadata": {
  "kernelspec": {
   "display_name": "Python 3",
   "language": "python",
   "name": "python3"
  },
  "language_info": {
   "codemirror_mode": {
    "name": "ipython",
    "version": 3
   },
   "file_extension": ".py",
   "mimetype": "text/x-python",
   "name": "python",
   "nbconvert_exporter": "python",
   "pygments_lexer": "ipython3",
   "version": "3.8.5"
  }
 },
 "nbformat": 4,
 "nbformat_minor": 2
}
