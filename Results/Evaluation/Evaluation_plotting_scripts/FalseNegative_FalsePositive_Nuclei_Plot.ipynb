{
 "cells": [
  {
   "cell_type": "code",
   "execution_count": null,
   "metadata": {},
   "outputs": [],
   "source": [
    "#FNs plot for Nuclei @ threshold 0.7\n",
    "\n",
    "\n",
    "import numpy as np\n",
    "import matplotlib.pyplot as plt\n",
    "from matplotlib import rc\n",
    "import pandas as pd\n",
    "pipelines = ['pipeline5','pipeline6','pipeline7']\n",
    "\n",
    "#add the FN values for each size for pipe5,6,7 respectively\n",
    "Tiny_nuclei = [54,54,54]\n",
    "Small_nuclei = [53,49,49]\n",
    "Normal_nuclei = [19,21,20]\n",
    "Large_nuclei = [9,9,8]\n",
    "\n",
    "#total is FN+TP (obtained from evaluation), sum then add below\n",
    "total = 389\n",
    "TinyNuclei = [(i / total * 100) for i in Tiny_nuclei]\n",
    "SmallNuclei = [(i / total * 100) for i in Small_nuclei]\n",
    "NormalNuclei = [(i / total * 100) for i in Normal_nuclei]\n",
    "LargeNuclei = [(i / total * 100) for i in Large_nuclei]\n",
    "\n",
    "r = [0,1,2]\n",
    "raw_data = {'Tiny nuclei': TinyNuclei,'Small nuclei': SmallNuclei,'Normal nuclei': NormalNuclei, 'Large nuclei': LargeNuclei}\n",
    "\n",
    "df = pd.DataFrame(raw_data, index = pipelines)\n",
    " \n",
    "#print(df)\n",
    "\n",
    "plt.figure(figsize = (12,5))\n",
    "\n",
    "plt.bar(r, TinyNuclei, color='coral', width=0.3)\n",
    "plt.bar(r, SmallNuclei, bottom=TinyNuclei,color='powderblue', width=0.3)\n",
    "plt.bar(r, NormalNuclei,  bottom = [i+j for i,j in zip(TinyNuclei, SmallNuclei)], color='orchid', width=0.3)\n",
    "plt.bar(r, LargeNuclei, bottom = [i+j+m for i,j,m in zip(TinyNuclei, SmallNuclei,NormalNuclei)], color = 'palegreen', width = 0.3)\n",
    "\n",
    "plt.xticks(r, pipelines, rotation = 0)\n",
    "plt.ylabel('False negative rate')\n",
    "plt.legend(raw_data)\n",
    "plt.rcParams.update({'font.size': 15})\n",
    "plt.savefig('FNR_Nuclei.png')\n",
    "plt.show()"
   ]
  }
 ],
 "metadata": {
  "kernelspec": {
   "display_name": "Python 3",
   "language": "python",
   "name": "python3"
  },
  "language_info": {
   "codemirror_mode": {
    "name": "ipython",
    "version": 3
   },
   "file_extension": ".py",
   "mimetype": "text/x-python",
   "name": "python",
   "nbconvert_exporter": "python",
   "pygments_lexer": "ipython3",
   "version": "3.8.8"
  }
 },
 "nbformat": 4,
 "nbformat_minor": 4
}
