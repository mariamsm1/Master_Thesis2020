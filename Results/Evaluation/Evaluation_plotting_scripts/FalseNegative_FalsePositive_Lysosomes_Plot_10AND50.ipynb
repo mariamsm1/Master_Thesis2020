{
 "cells": [
  {
   "cell_type": "code",
   "execution_count": 2,
   "metadata": {},
   "outputs": [
    {
     "data": {
      "image/png": "[encoded data removed]",
      "text/plain": [
       "<Figure size 864x360 with 1 Axes>"
      ]
     },
     "metadata": {
      "needs_background": "light"
     },
     "output_type": "display_data"
    }
   ],
   "source": [
    "#FNs plot for lysosomes at threshold 0.1\n",
    "#Plot the last 5 pipelines. There's a tradeoff between FNs and FPs\n",
    "\n",
    "import numpy as np\n",
    "import matplotlib.pyplot as plt\n",
    "from matplotlib import rc\n",
    "import pandas as pd\n",
    "pipelines = ['pipeline2','pipeline3','pipeline4','pipeline5','pipeline6', 'pipeline7', 'pipeline8']\n",
    "\n",
    "#add the FN values for each size for pipe2,3,4,5,6,7,8 respectively\n",
    "Small_lysosome = [117,151,169,172,181,134,159]\n",
    "Large_lysosome = [7,6,7,8,8,5,7]\n",
    "\n",
    "#total is FN+TP (obtained from evaluation), sum then add below\n",
    "total = 375\n",
    "SmallLysosomes = [(i / total * 100) for i in Small_lysosome]\n",
    "LargeLysosomes = [(i / total * 100) for i in Large_lysosome]\n",
    "\n",
    "r = [0,1,2,3,4,5,6]\n",
    "raw_data = {'Small lysosomes': SmallLysosomes, 'Large lysosomes': LargeLysosomes}\n",
    "\n",
    "df = pd.DataFrame(raw_data, index = pipelines)\n",
    " \n",
    "\n",
    "plt.figure(figsize = (12,5))\n",
    "\n",
    "plt.bar(r, SmallLysosomes, color='powderblue', width=0.3)\n",
    "plt.bar(r, LargeLysosomes,  bottom=SmallLysosomes, color='orchid', width=0.3)\n",
    "\n",
    "plt.xticks(r, pipelines, rotation = 0)\n",
    "plt.ylabel('False negative rate')\n",
    "plt.legend(raw_data)\n",
    "\n",
    "plt.show();"
   ]
  },
  {
   "cell_type": "code",
   "execution_count": 3,
   "metadata": {},
   "outputs": [
    {
     "data": {
      "text/html": [
       "<div>\n",
       "<style scoped>\n",
       "    .dataframe tbody tr th:only-of-type {\n",
       "        vertical-align: middle;\n",
       "    }\n",
       "\n",
       "    .dataframe tbody tr th {\n",
       "        vertical-align: top;\n",
       "    }\n",
       "\n",
       "    .dataframe thead th {\n",
       "        text-align: right;\n",
       "    }\n",
       "</style>\n",
       "<table border=\"1\" class=\"dataframe\">\n",
       "  <thead>\n",
       "    <tr style=\"text-align: right;\">\n",
       "      <th></th>\n",
       "      <th>Small lysosomes</th>\n",
       "      <th>Large Lysosomes</th>\n",
       "    </tr>\n",
       "  </thead>\n",
       "  <tbody>\n",
       "    <tr>\n",
       "      <th>pipeline2</th>\n",
       "      <td>31.200%</td>\n",
       "      <td>1.867%</td>\n",
       "    </tr>\n",
       "    <tr>\n",
       "      <th>pipeline3</th>\n",
       "      <td>40.267%</td>\n",
       "      <td>1.600%</td>\n",
       "    </tr>\n",
       "    <tr>\n",
       "      <th>pipeline4</th>\n",
       "      <td>45.067%</td>\n",
       "      <td>1.867%</td>\n",
       "    </tr>\n",
       "    <tr>\n",
       "      <th>pipeline5</th>\n",
       "      <td>45.867%</td>\n",
       "      <td>2.133%</td>\n",
       "    </tr>\n",
       "    <tr>\n",
       "      <th>pipeline6</th>\n",
       "      <td>48.267%</td>\n",
       "      <td>2.133%</td>\n",
       "    </tr>\n",
       "    <tr>\n",
       "      <th>pipeline7</th>\n",
       "      <td>35.733%</td>\n",
       "      <td>1.333%</td>\n",
       "    </tr>\n",
       "    <tr>\n",
       "      <th>pipeline8</th>\n",
       "      <td>42.400%</td>\n",
       "      <td>1.867%</td>\n",
       "    </tr>\n",
       "  </tbody>\n",
       "</table>\n",
       "</div>"
      ],
      "text/plain": [
       "          Small lysosomes Large Lysosomes\n",
       "pipeline2         31.200%          1.867%\n",
       "pipeline3         40.267%          1.600%\n",
       "pipeline4         45.067%          1.867%\n",
       "pipeline5         45.867%          2.133%\n",
       "pipeline6         48.267%          2.133%\n",
       "pipeline7         35.733%          1.333%\n",
       "pipeline8         42.400%          1.867%"
      ]
     },
     "metadata": {},
     "output_type": "display_data"
    }
   ],
   "source": [
    "raw_data2 = {'Small lysosomes':[str(\"%.3f\" % i)+'%' for i in SmallLysosomes],'Large Lysosomes': [str(\"%.3f\" % i)+'%' for i in LargeLysosomes]}\n",
    "df = pd.DataFrame(raw_data2, index = pipelines)\n",
    "display(df)"
   ]
  },
  {
   "cell_type": "code",
   "execution_count": 4,
   "metadata": {},
   "outputs": [
    {
     "data": {
      "image/png": "[encoded data removed]",
      "text/plain": [
       "<Figure size 864x360 with 1 Axes>"
      ]
     },
     "metadata": {
      "needs_background": "light"
     },
     "output_type": "display_data"
    }
   ],
   "source": [
    "#FNs plot for lysosomes at threshold 0.5\n",
    "\n",
    "import numpy as np\n",
    "import matplotlib.pyplot as plt\n",
    "from matplotlib import rc\n",
    "import pandas as pd\n",
    "pipelines = ['pipeline2','pipeline3','pipeline4','pipeline5','pipeline6','pipeline7','pipeline8']\n",
    "\n",
    "#add the FN values for each size for pipe2,3,4,5,6,7,8 respectively\n",
    "Small_lysosome = [274,270,270,271,268,249,241]\n",
    "Large_lysosome = [27,23,19,19,20,16,16]\n",
    "\n",
    "#total is FN+TP (obtained from evaluation), sum then add below\n",
    "total = 375\n",
    "SmallLysosomes = [(i / total * 100) for i in Small_lysosome]\n",
    "LargeLysosomes = [(i / total * 100) for i in Large_lysosome]\n",
    "\n",
    "r = [0,1,2,3,4,5,6]\n",
    "raw_data = {'Small lysosomes': SmallLysosomes, 'Large lysosomes': LargeLysosomes}\n",
    "\n",
    "df = pd.DataFrame(raw_data, index = pipelines)\n",
    " \n",
    "\n",
    "plt.figure(figsize = (12,5))\n",
    "\n",
    "plt.bar(r, SmallLysosomes, color='powderblue', width=0.3)\n",
    "plt.bar(r, LargeLysosomes,  bottom=SmallLysosomes, color='orchid', width=0.3)\n",
    "\n",
    "plt.xticks(r, pipelines, rotation = 0)\n",
    "plt.ylabel('False negative rate')\n",
    "plt.legend(raw_data)\n",
    "\n",
    "plt.show();"
   ]
  },
  {
   "cell_type": "code",
   "execution_count": 5,
   "metadata": {},
   "outputs": [
    {
     "data": {
      "text/html": [
       "<div>\n",
       "<style scoped>\n",
       "    .dataframe tbody tr th:only-of-type {\n",
       "        vertical-align: middle;\n",
       "    }\n",
       "\n",
       "    .dataframe tbody tr th {\n",
       "        vertical-align: top;\n",
       "    }\n",
       "\n",
       "    .dataframe thead th {\n",
       "        text-align: right;\n",
       "    }\n",
       "</style>\n",
       "<table border=\"1\" class=\"dataframe\">\n",
       "  <thead>\n",
       "    <tr style=\"text-align: right;\">\n",
       "      <th></th>\n",
       "      <th>Small lysosomes</th>\n",
       "      <th>Large Lysosomes</th>\n",
       "    </tr>\n",
       "  </thead>\n",
       "  <tbody>\n",
       "    <tr>\n",
       "      <th>pipeline2</th>\n",
       "      <td>73.067%</td>\n",
       "      <td>7.200%</td>\n",
       "    </tr>\n",
       "    <tr>\n",
       "      <th>pipeline3</th>\n",
       "      <td>72.000%</td>\n",
       "      <td>6.133%</td>\n",
       "    </tr>\n",
       "    <tr>\n",
       "      <th>pipeline4</th>\n",
       "      <td>72.000%</td>\n",
       "      <td>5.067%</td>\n",
       "    </tr>\n",
       "    <tr>\n",
       "      <th>pipeline5</th>\n",
       "      <td>72.267%</td>\n",
       "      <td>5.067%</td>\n",
       "    </tr>\n",
       "    <tr>\n",
       "      <th>pipeline6</th>\n",
       "      <td>71.467%</td>\n",
       "      <td>5.333%</td>\n",
       "    </tr>\n",
       "    <tr>\n",
       "      <th>pipeline7</th>\n",
       "      <td>66.400%</td>\n",
       "      <td>4.267%</td>\n",
       "    </tr>\n",
       "    <tr>\n",
       "      <th>pipeline8</th>\n",
       "      <td>64.267%</td>\n",
       "      <td>4.267%</td>\n",
       "    </tr>\n",
       "  </tbody>\n",
       "</table>\n",
       "</div>"
      ],
      "text/plain": [
       "          Small lysosomes Large Lysosomes\n",
       "pipeline2         73.067%          7.200%\n",
       "pipeline3         72.000%          6.133%\n",
       "pipeline4         72.000%          5.067%\n",
       "pipeline5         72.267%          5.067%\n",
       "pipeline6         71.467%          5.333%\n",
       "pipeline7         66.400%          4.267%\n",
       "pipeline8         64.267%          4.267%"
      ]
     },
     "metadata": {},
     "output_type": "display_data"
    }
   ],
   "source": [
    "raw_data2 = {'Small lysosomes':[str(\"%.3f\" % i)+'%' for i in SmallLysosomes],'Large Lysosomes': [str(\"%.3f\" % i)+'%' for i in LargeLysosomes]}\n",
    "df = pd.DataFrame(raw_data2, index = pipelines)\n",
    "display(df)"
   ]
  },
  {
   "cell_type": "code",
   "execution_count": 5,
   "metadata": {},
   "outputs": [
    {
     "data": {
      "text/plain": [
       "<Figure size 864x360 with 0 Axes>"
      ]
     },
     "metadata": {},
     "output_type": "display_data"
    },
    {
     "data": {
      "image/png": "[encoded data removed]",
      "text/plain": [
       "<Figure size 1080x576 with 1 Axes>"
      ]
     },
     "metadata": {
      "needs_background": "light"
     },
     "output_type": "display_data"
    }
   ],
   "source": [
    "#plot the FDR for lysosomes at thresholds 0.1 and 0.5\n",
    "\n",
    "import numpy as np\n",
    "import matplotlib.pyplot as plt\n",
    "from matplotlib import rc\n",
    "import pandas as pd\n",
    "\n",
    "pipelines = ['pipeline2','pipeline3','pipeline4','pipeline5','pipeline6','pipeline7','pipeline8']\n",
    "\n",
    "#add the FDR values for pipe2,3,4,5,6,7,8 respectively\n",
    "FDR_10 = [0.3252,0.2635,0.1638,0.1558,0.1733,0.2,]\n",
    "FDR_50 = [0.7972,0.7172,0.63090,0.6222,0.6045]\n",
    "\n",
    "r = [0,1,2,3,4] \n",
    "width = 0.1\n",
    "\n",
    "plt.figure(figsize = (12,5))\n",
    "fig = plt.figure(figsize=(15,8))\n",
    "ax = fig.add_subplot(111)\n",
    "first_plot = ax.bar(np.arange(len(FDR_10)), FDR_50, width, color='orchid', label = 'Threshold 0.5') \n",
    "second_plot = ax.bar(np.arange(len(FDR_10))+width, FDR_10, width, color='powderblue', label = 'Threshold 0.1')\n",
    "\n",
    "\n",
    "plt.xticks(r, pipelines, rotation = 0)\n",
    "plt.legend(loc='best')\n",
    "plt.ylabel('False discovery rate')\n",
    "plt.show();"
   ]
  },
  {
   "cell_type": "code",
   "execution_count": 6,
   "metadata": {},
   "outputs": [
    {
     "data": {
      "text/html": [
       "<div>\n",
       "<style scoped>\n",
       "    .dataframe tbody tr th:only-of-type {\n",
       "        vertical-align: middle;\n",
       "    }\n",
       "\n",
       "    .dataframe tbody tr th {\n",
       "        vertical-align: top;\n",
       "    }\n",
       "\n",
       "    .dataframe thead th {\n",
       "        text-align: right;\n",
       "    }\n",
       "</style>\n",
       "<table border=\"1\" class=\"dataframe\">\n",
       "  <thead>\n",
       "    <tr style=\"text-align: right;\">\n",
       "      <th></th>\n",
       "      <th>Threshold 10</th>\n",
       "      <th>Threshold 50</th>\n",
       "    </tr>\n",
       "  </thead>\n",
       "  <tbody>\n",
       "    <tr>\n",
       "      <th>pipeline2</th>\n",
       "      <td>0.325%</td>\n",
       "      <td>0.797%</td>\n",
       "    </tr>\n",
       "    <tr>\n",
       "      <th>pipeline3</th>\n",
       "      <td>0.264%</td>\n",
       "      <td>0.717%</td>\n",
       "    </tr>\n",
       "    <tr>\n",
       "      <th>pipeline4</th>\n",
       "      <td>0.164%</td>\n",
       "      <td>0.631%</td>\n",
       "    </tr>\n",
       "    <tr>\n",
       "      <th>pipeline5</th>\n",
       "      <td>0.156%</td>\n",
       "      <td>0.622%</td>\n",
       "    </tr>\n",
       "    <tr>\n",
       "      <th>pipeline6</th>\n",
       "      <td>0.173%</td>\n",
       "      <td>0.605%</td>\n",
       "    </tr>\n",
       "  </tbody>\n",
       "</table>\n",
       "</div>"
      ],
      "text/plain": [
       "          Threshold 10 Threshold 50\n",
       "pipeline2       0.325%       0.797%\n",
       "pipeline3       0.264%       0.717%\n",
       "pipeline4       0.164%       0.631%\n",
       "pipeline5       0.156%       0.622%\n",
       "pipeline6       0.173%       0.605%"
      ]
     },
     "metadata": {},
     "output_type": "display_data"
    }
   ],
   "source": [
    "raw_data = {'Threshold 10':[str(\"%.3f\" % i)+'%' for i in FDR_10],'Threshold 50': [str(\"%.3f\" % i)+'%' for i in FDR_50]}\n",
    "df = pd.DataFrame(raw_data, index = pipelines)\n",
    "display(df)"
   ]
  }
 ],
 "metadata": {
  "kernelspec": {
   "display_name": "Python 3",
   "language": "python",
   "name": "python3"
  },
  "language_info": {
   "codemirror_mode": {
    "name": "ipython",
    "version": 3
   },
   "file_extension": ".py",
   "mimetype": "text/x-python",
   "name": "python",
   "nbconvert_exporter": "python",
   "pygments_lexer": "ipython3",
   "version": "3.7.0"
  }
 },
 "nbformat": 4,
 "nbformat_minor": 2
}
