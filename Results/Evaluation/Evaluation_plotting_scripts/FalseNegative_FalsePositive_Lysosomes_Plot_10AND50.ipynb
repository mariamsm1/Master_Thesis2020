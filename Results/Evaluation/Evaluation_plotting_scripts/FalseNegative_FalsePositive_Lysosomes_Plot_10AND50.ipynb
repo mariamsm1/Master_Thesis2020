{
 "cells": [
  {
   "cell_type": "code",
   "execution_count": 2,
   "metadata": {},
   "outputs": [
    {
     "data": {
      "image/png": "[encoded data removed]",
      "text/plain": [
       "<Figure size 864x360 with 1 Axes>"
      ]
     },
     "metadata": {
      "needs_background": "light"
     },
     "output_type": "display_data"
    }
   ],
   "source": [
    "#FNs plot for lysosomes at threshold 0.1\n",
    "#Plot the last 8 pipelines. There's a tradeoff between FNs and FPs\n",
    "\n",
    "import numpy as np\n",
    "import matplotlib.pyplot as plt\n",
    "from matplotlib import rc\n",
    "import pandas as pd\n",
    "pipelines = ['pipeline2','pipeline3','pipeline4','pipeline5','pipeline6', 'pipeline7', 'pipeline8','pipeline9']\n",
    "\n",
    "#add the FN values for each size for pipe2,3,4,5,6,7,8,9 respectively\n",
    "Small_lysosome = [117,151,169,172,181,134,159,116]\n",
    "Large_lysosome = [7,6,7,8,8,5,7,5]\n",
    "\n",
    "#total is FN+TP (obtained from evaluation), sum then add below\n",
    "total = 375\n",
    "SmallLysosomes = [(i / total * 100) for i in Small_lysosome]\n",
    "LargeLysosomes = [(i / total * 100) for i in Large_lysosome]\n",
    "\n",
    "r = [0,1,2,3,4,5,6,7]\n",
    "raw_data = {'Small lysosomes': SmallLysosomes, 'Large lysosomes': LargeLysosomes}\n",
    "\n",
    "df = pd.DataFrame(raw_data, index = pipelines)\n",
    " \n",
    "\n",
    "plt.figure(figsize = (12,5))\n",
    "\n",
    "plt.bar(r, SmallLysosomes, color='powderblue', width=0.3)\n",
    "plt.bar(r, LargeLysosomes,  bottom=SmallLysosomes, color='orchid', width=0.3)\n",
    "\n",
    "plt.xticks(r, pipelines, rotation = 0)\n",
    "plt.ylabel('False negative rate')\n",
    "plt.legend(raw_data)\n",
    "\n",
    "plt.show();"
   ]
  },
  {
   "cell_type": "code",
   "execution_count": 3,
   "metadata": {},
   "outputs": [
    {
     "data": {
      "text/html": [
       "<div>\n",
       "<style scoped>\n",
       "    .dataframe tbody tr th:only-of-type {\n",
       "        vertical-align: middle;\n",
       "    }\n",
       "\n",
       "    .dataframe tbody tr th {\n",
       "        vertical-align: top;\n",
       "    }\n",
       "\n",
       "    .dataframe thead th {\n",
       "        text-align: right;\n",
       "    }\n",
       "</style>\n",
       "<table border=\"1\" class=\"dataframe\">\n",
       "  <thead>\n",
       "    <tr style=\"text-align: right;\">\n",
       "      <th></th>\n",
       "      <th>Small lysosomes</th>\n",
       "      <th>Large Lysosomes</th>\n",
       "    </tr>\n",
       "  </thead>\n",
       "  <tbody>\n",
       "    <tr>\n",
       "      <th>pipeline2</th>\n",
       "      <td>31.200%</td>\n",
       "      <td>1.867%</td>\n",
       "    </tr>\n",
       "    <tr>\n",
       "      <th>pipeline3</th>\n",
       "      <td>40.267%</td>\n",
       "      <td>1.600%</td>\n",
       "    </tr>\n",
       "    <tr>\n",
       "      <th>pipeline4</th>\n",
       "      <td>45.067%</td>\n",
       "      <td>1.867%</td>\n",
       "    </tr>\n",
       "    <tr>\n",
       "      <th>pipeline5</th>\n",
       "      <td>45.867%</td>\n",
       "      <td>2.133%</td>\n",
       "    </tr>\n",
       "    <tr>\n",
       "      <th>pipeline6</th>\n",
       "      <td>48.267%</td>\n",
       "      <td>2.133%</td>\n",
       "    </tr>\n",
       "    <tr>\n",
       "      <th>pipeline7</th>\n",
       "      <td>35.733%</td>\n",
       "      <td>1.333%</td>\n",
       "    </tr>\n",
       "    <tr>\n",
       "      <th>pipeline8</th>\n",
       "      <td>42.400%</td>\n",
       "      <td>1.867%</td>\n",
       "    </tr>\n",
       "    <tr>\n",
       "      <th>pipeline9</th>\n",
       "      <td>30.933%</td>\n",
       "      <td>1.333%</td>\n",
       "    </tr>\n",
       "  </tbody>\n",
       "</table>\n",
       "</div>"
      ],
      "text/plain": [
       "          Small lysosomes Large Lysosomes\n",
       "pipeline2         31.200%          1.867%\n",
       "pipeline3         40.267%          1.600%\n",
       "pipeline4         45.067%          1.867%\n",
       "pipeline5         45.867%          2.133%\n",
       "pipeline6         48.267%          2.133%\n",
       "pipeline7         35.733%          1.333%\n",
       "pipeline8         42.400%          1.867%\n",
       "pipeline9         30.933%          1.333%"
      ]
     },
     "metadata": {},
     "output_type": "display_data"
    }
   ],
   "source": [
    "raw_data2 = {'Small lysosomes':[str(\"%.3f\" % i)+'%' for i in SmallLysosomes],'Large Lysosomes': [str(\"%.3f\" % i)+'%' for i in LargeLysosomes]}\n",
    "df = pd.DataFrame(raw_data2, index = pipelines)\n",
    "display(df)"
   ]
  },
  {
   "cell_type": "code",
   "execution_count": 5,
   "metadata": {},
   "outputs": [
    {
     "data": {
      "image/png": "[encoded data removed]",
      "text/plain": [
       "<Figure size 864x360 with 1 Axes>"
      ]
     },
     "metadata": {
      "needs_background": "light"
     },
     "output_type": "display_data"
    }
   ],
   "source": [
    "#FNs plot for lysosomes at threshold 0.5\n",
    "\n",
    "import numpy as np\n",
    "import matplotlib.pyplot as plt\n",
    "from matplotlib import rc\n",
    "import pandas as pd\n",
    "pipelines = ['pipeline2','pipeline3','pipeline4','pipeline5','pipeline6','pipeline7','pipeline8','pipeline9']\n",
    "\n",
    "#add the FN values for each size for pipe2,3,4,5,6,7,8,9 respectively\n",
    "Small_lysosome = [274,270,270,271,268,249,241,227]\n",
    "Large_lysosome = [27,23,19,19,20,16,16,11]\n",
    "\n",
    "#total is FN+TP (obtained from evaluation), sum then add below\n",
    "total = 375\n",
    "SmallLysosomes = [(i / total * 100) for i in Small_lysosome]\n",
    "LargeLysosomes = [(i / total * 100) for i in Large_lysosome]\n",
    "\n",
    "r = [0,1,2,3,4,5,6,7]\n",
    "raw_data = {'Small lysosomes': SmallLysosomes, 'Large lysosomes': LargeLysosomes}\n",
    "\n",
    "df = pd.DataFrame(raw_data, index = pipelines)\n",
    " \n",
    "\n",
    "plt.figure(figsize = (12,5))\n",
    "\n",
    "plt.bar(r, SmallLysosomes, color='powderblue', width=0.3)\n",
    "plt.bar(r, LargeLysosomes,  bottom=SmallLysosomes, color='orchid', width=0.3)\n",
    "\n",
    "plt.xticks(r, pipelines, rotation = 0)\n",
    "plt.ylabel('False negative rate')\n",
    "plt.legend(raw_data)\n",
    "\n",
    "plt.show();"
   ]
  },
  {
   "cell_type": "code",
   "execution_count": 6,
   "metadata": {
    "scrolled": true
   },
   "outputs": [
    {
     "data": {
      "text/html": [
       "<div>\n",
       "<style scoped>\n",
       "    .dataframe tbody tr th:only-of-type {\n",
       "        vertical-align: middle;\n",
       "    }\n",
       "\n",
       "    .dataframe tbody tr th {\n",
       "        vertical-align: top;\n",
       "    }\n",
       "\n",
       "    .dataframe thead th {\n",
       "        text-align: right;\n",
       "    }\n",
       "</style>\n",
       "<table border=\"1\" class=\"dataframe\">\n",
       "  <thead>\n",
       "    <tr style=\"text-align: right;\">\n",
       "      <th></th>\n",
       "      <th>Small lysosomes</th>\n",
       "      <th>Large Lysosomes</th>\n",
       "    </tr>\n",
       "  </thead>\n",
       "  <tbody>\n",
       "    <tr>\n",
       "      <th>pipeline2</th>\n",
       "      <td>73.067%</td>\n",
       "      <td>7.200%</td>\n",
       "    </tr>\n",
       "    <tr>\n",
       "      <th>pipeline3</th>\n",
       "      <td>72.000%</td>\n",
       "      <td>6.133%</td>\n",
       "    </tr>\n",
       "    <tr>\n",
       "      <th>pipeline4</th>\n",
       "      <td>72.000%</td>\n",
       "      <td>5.067%</td>\n",
       "    </tr>\n",
       "    <tr>\n",
       "      <th>pipeline5</th>\n",
       "      <td>72.267%</td>\n",
       "      <td>5.067%</td>\n",
       "    </tr>\n",
       "    <tr>\n",
       "      <th>pipeline6</th>\n",
       "      <td>71.467%</td>\n",
       "      <td>5.333%</td>\n",
       "    </tr>\n",
       "    <tr>\n",
       "      <th>pipeline7</th>\n",
       "      <td>66.400%</td>\n",
       "      <td>4.267%</td>\n",
       "    </tr>\n",
       "    <tr>\n",
       "      <th>pipeline8</th>\n",
       "      <td>64.267%</td>\n",
       "      <td>4.267%</td>\n",
       "    </tr>\n",
       "    <tr>\n",
       "      <th>pipeline9</th>\n",
       "      <td>60.533%</td>\n",
       "      <td>2.933%</td>\n",
       "    </tr>\n",
       "  </tbody>\n",
       "</table>\n",
       "</div>"
      ],
      "text/plain": [
       "          Small lysosomes Large Lysosomes\n",
       "pipeline2         73.067%          7.200%\n",
       "pipeline3         72.000%          6.133%\n",
       "pipeline4         72.000%          5.067%\n",
       "pipeline5         72.267%          5.067%\n",
       "pipeline6         71.467%          5.333%\n",
       "pipeline7         66.400%          4.267%\n",
       "pipeline8         64.267%          4.267%\n",
       "pipeline9         60.533%          2.933%"
      ]
     },
     "metadata": {},
     "output_type": "display_data"
    }
   ],
   "source": [
    "raw_data2 = {'Small lysosomes':[str(\"%.3f\" % i)+'%' for i in SmallLysosomes],'Large Lysosomes': [str(\"%.3f\" % i)+'%' for i in LargeLysosomes]}\n",
    "df = pd.DataFrame(raw_data2, index = pipelines)\n",
    "display(df)"
   ]
  },
  {
   "cell_type": "code",
   "execution_count": 23,
   "metadata": {},
   "outputs": [
    {
     "data": {
      "text/plain": [
       "<Figure size 864x360 with 0 Axes>"
      ]
     },
     "metadata": {},
     "output_type": "display_data"
    },
    {
     "data": {
      "image/png": "[encoded data removed]",
      "text/plain": [
       "<Figure size 1080x576 with 1 Axes>"
      ]
     },
     "metadata": {
      "needs_background": "light"
     },
     "output_type": "display_data"
    }
   ],
   "source": [
    "#plot the FDR for lysosomes at thresholds 0.1 and 0.5\n",
    "\n",
    "import numpy as np\n",
    "import matplotlib.pyplot as plt\n",
    "from matplotlib import rc\n",
    "import pandas as pd\n",
    "\n",
    "pipelines = ['pipeline2','pipeline3','pipeline4','pipeline5','pipeline6','pipeline7','pipeline8','pipeline9']\n",
    "\n",
    "#add the FDR values for pipe2,3,4,5,6,7,8 respectively\n",
    "FDR_small_10 = [0.2904,0.1828,0.1159,0.1067,0.1227,0.1458,0.0932,0.1781]\n",
    "FDR_large_10 = [0.0411,0.0793,0.0515,0.0533,0.0545,0.0590,0.0339,0.0469]\n",
    "FDR_small_50 = [0.7260,0.3276,0.3004,0.2933,0.3136,0.3576,0.4025,0.4031]\n",
    "FDR_large_50 = [0.0712,0.3828,0.3305,0.3289,0.2909,0.2604,0.0975,0.1688]\n",
    "\n",
    "\n",
    "r = [0,1,2,3,4,5,6,7] \n",
    "width = 0.1\n",
    "r2 = [i+width for i in r]\n",
    "\n",
    "raw_data = {'Small lysosomes t10': FDR_small_10, 'Large lysosomes t10': FDR_large_10,'Small lysosomes t50': FDR_small_50, 'Large lysosomes t50': FDR_large_50}\n",
    "\n",
    "\n",
    "plt.figure(figsize = (12,5))\n",
    "fig = plt.figure(figsize=(15,8))\n",
    "ax = fig.add_subplot(111)\n",
    "first_plot1 = ax.bar(r, FDR_small_10, color='powderblue',width = width) \n",
    "first_plot2 = ax.bar(r, FDR_large_10,bottom = FDR_small_10, color='orchid',width = width) \n",
    "\n",
    "second_plot1 = ax.bar(r2, FDR_small_50, color='coral',width = width) \n",
    "second_plot2 = ax.bar(r2, FDR_large_50,bottom = FDR_small_50, color='palegreen',width = width) \n",
    "\n",
    "plt.xticks(r, pipelines, rotation = 0)\n",
    "plt.legend(raw_data,loc='best')\n",
    "plt.ylabel('False discovery rate')\n",
    "plt.show();"
   ]
  },
  {
   "cell_type": "code",
   "execution_count": 24,
   "metadata": {},
   "outputs": [
    {
     "data": {
      "text/html": [
       "<div>\n",
       "<style scoped>\n",
       "    .dataframe tbody tr th:only-of-type {\n",
       "        vertical-align: middle;\n",
       "    }\n",
       "\n",
       "    .dataframe tbody tr th {\n",
       "        vertical-align: top;\n",
       "    }\n",
       "\n",
       "    .dataframe thead th {\n",
       "        text-align: right;\n",
       "    }\n",
       "</style>\n",
       "<table border=\"1\" class=\"dataframe\">\n",
       "  <thead>\n",
       "    <tr style=\"text-align: right;\">\n",
       "      <th></th>\n",
       "      <th>Small lysosomes t10</th>\n",
       "      <th>Large lysosomes t10</th>\n",
       "      <th>Small lysosomes t50</th>\n",
       "      <th>Large lysosomes t50</th>\n",
       "    </tr>\n",
       "  </thead>\n",
       "  <tbody>\n",
       "    <tr>\n",
       "      <th>pipeline2</th>\n",
       "      <td>0.290%</td>\n",
       "      <td>0.041%</td>\n",
       "      <td>0.726%</td>\n",
       "      <td>0.071%</td>\n",
       "    </tr>\n",
       "    <tr>\n",
       "      <th>pipeline3</th>\n",
       "      <td>0.183%</td>\n",
       "      <td>0.079%</td>\n",
       "      <td>0.328%</td>\n",
       "      <td>0.383%</td>\n",
       "    </tr>\n",
       "    <tr>\n",
       "      <th>pipeline4</th>\n",
       "      <td>0.116%</td>\n",
       "      <td>0.051%</td>\n",
       "      <td>0.300%</td>\n",
       "      <td>0.331%</td>\n",
       "    </tr>\n",
       "    <tr>\n",
       "      <th>pipeline5</th>\n",
       "      <td>0.107%</td>\n",
       "      <td>0.053%</td>\n",
       "      <td>0.293%</td>\n",
       "      <td>0.329%</td>\n",
       "    </tr>\n",
       "    <tr>\n",
       "      <th>pipeline6</th>\n",
       "      <td>0.123%</td>\n",
       "      <td>0.054%</td>\n",
       "      <td>0.314%</td>\n",
       "      <td>0.291%</td>\n",
       "    </tr>\n",
       "    <tr>\n",
       "      <th>pipeline7</th>\n",
       "      <td>0.146%</td>\n",
       "      <td>0.059%</td>\n",
       "      <td>0.358%</td>\n",
       "      <td>0.260%</td>\n",
       "    </tr>\n",
       "    <tr>\n",
       "      <th>pipeline8</th>\n",
       "      <td>0.093%</td>\n",
       "      <td>0.034%</td>\n",
       "      <td>0.403%</td>\n",
       "      <td>0.098%</td>\n",
       "    </tr>\n",
       "    <tr>\n",
       "      <th>pipeline9</th>\n",
       "      <td>0.178%</td>\n",
       "      <td>0.047%</td>\n",
       "      <td>0.403%</td>\n",
       "      <td>0.169%</td>\n",
       "    </tr>\n",
       "  </tbody>\n",
       "</table>\n",
       "</div>"
      ],
      "text/plain": [
       "          Small lysosomes t10 Large lysosomes t10 Small lysosomes t50  \\\n",
       "pipeline2              0.290%              0.041%              0.726%   \n",
       "pipeline3              0.183%              0.079%              0.328%   \n",
       "pipeline4              0.116%              0.051%              0.300%   \n",
       "pipeline5              0.107%              0.053%              0.293%   \n",
       "pipeline6              0.123%              0.054%              0.314%   \n",
       "pipeline7              0.146%              0.059%              0.358%   \n",
       "pipeline8              0.093%              0.034%              0.403%   \n",
       "pipeline9              0.178%              0.047%              0.403%   \n",
       "\n",
       "          Large lysosomes t50  \n",
       "pipeline2              0.071%  \n",
       "pipeline3              0.383%  \n",
       "pipeline4              0.331%  \n",
       "pipeline5              0.329%  \n",
       "pipeline6              0.291%  \n",
       "pipeline7              0.260%  \n",
       "pipeline8              0.098%  \n",
       "pipeline9              0.169%  "
      ]
     },
     "metadata": {},
     "output_type": "display_data"
    }
   ],
   "source": [
    "raw_data = {'Small lysosomes t10':[str(\"%.3f\" % i)+'%' for i in FDR_small_10],'Large lysosomes t10': [str(\"%.3f\" % i)+'%' for i in FDR_large_10],\n",
    "           'Small lysosomes t50':[str(\"%.3f\" % i)+'%' for i in FDR_small_50],'Large lysosomes t50': [str(\"%.3f\" % i)+'%' for i in FDR_large_50]\n",
    "           }\n",
    "df = pd.DataFrame(raw_data, index = pipelines)\n",
    "display(df)"
   ]
  }
 ],
 "metadata": {
  "kernelspec": {
   "display_name": "Python 3",
   "language": "python",
   "name": "python3"
  },
  "language_info": {
   "codemirror_mode": {
    "name": "ipython",
    "version": 3
   },
   "file_extension": ".py",
   "mimetype": "text/x-python",
   "name": "python",
   "nbconvert_exporter": "python",
   "pygments_lexer": "ipython3",
   "version": "3.7.0"
  }
 },
 "nbformat": 4,
 "nbformat_minor": 2
}
