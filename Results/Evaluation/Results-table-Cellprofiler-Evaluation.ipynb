{
 "cells": [
  {
   "cell_type": "markdown",
   "metadata": {},
   "source": [
    "## Description of the models\n",
    "    \n",
    "### Cellprofiler pipelines: \n",
    "- Nuclei were evaluated on validation set-images obtained from https://lu.app.box.com/s/mujhztlh3i1vltai9a1ahgajkugmqkki/folder/123251275532. 6 different pipelines with different parameters were tried out on these Images.\n",
    "- Cells were evaluated on validation set-images found in /lunarc/nobackup/projects/snic2020-6-41/Mariam/Mariam_Thesis/Results_Pipelines_Images/Images/Images_And_Summary/Original_Raw_Normalized_Images/C01_images/d1_originals/Validation_Images.\n",
    "\n",
    "#### Nuclei Evaluation:\n",
    "| Pipeline | F1 50% | 55% | 60% | 65% | 70% | 75% | 80% | 85% | 90% | 95%| Avg F1 score | Jaccard Index|\n",
    "    | --- | --- | | | | | | | | |--- | --- | --- |\n",
    "    | Pipeline 1 | 0.7727 | 0.7402 | 0.7043 | 0.6546 | 0.6011 | 0.5321 | 0.4357 | 0.2680 | 0.1006 | 0.0067 | 0.4816 | 0.7276 |\n",
    "    | Pipeline 2 | 0.7698 | 0.7583 | 0.7132 | 0.6806 | 0.6446 | 0.5907 | 0.4900 | 0.3941 | 0.2038 | 0.0192 | 0.5264 | 0.7511 |\n",
    "    | Pipeline 3 | 0.8112 | 0.7984 | 0.7825 | 0.7631 | 0.7016 | 0.6457 | 0.5625 | 0.4379 | 0.2291 | 0.0146 | 0.5747 | 0.7690 |\n",
    "    | Pipeline 4 | 0.8054 | 0.7994 | 0.7645 | 0.7396 | 0.7027 | 0.6738 | 0.5898 | 0.4495 | 0.2332 | 0.0134 | 0.5771 | 0.7797 |\n",
    "    | Pipeline 5 | 0.8092 | 0.8027 | 0.7789 | 0.7550 | 0.7154 | 0.6668 | 0.5947 | 0.4528 | 0.2295 | 0.0056 | 0.5811 | 0.7831 |\n",
    "    | Pipeline 6 | 0.8108 | 0.8046 | 0.7868 | 0.7607 | 0.7158 | 0.6590 | 0.5839 | 0.4670 | 0.2526 | 0.0197 | 0.5861 | 0.7842 |\n",
    "\n",
    "\n",
    "#### Cell Evaluation:\n",
    "| Pipeline | F1 50% | 55% | 60% | 65% | 70% | 75% | 80% | 85% | 90% | 95%| Avg F1 score | Jaccard Index|\n",
    "    | --- | --- | | | | | | | | |--- | --- | --- |\n",
    "    | Pipeline 1 | 0.8226 | 0.7913 | 0.7468 | 0.6880 | 0.6210 | 0.5193 | 0.3827 | 0.2089 | 0.0699 | 0.0038 | 0.4854 | 0.7099 |\n",
    "    | Pipeline 2 | 0.8326 | 0.8014 | 0.7476 | 0.6852 | 0.6052 | 0.5046 | 0.3682 | 0.1632 | 0.0599 | 0.0038 | 0.4772 | 0.7068 |\n",
    "    | Pipeline 3 | 0.8195 | 0.7912 | 0.7442 | 0.6818 | 0.6096 | 0.5077 | 0.3628 | 0.1774 | 0.0601 | 0.0038 | 0.4758 | 0.7046 |\n",
    "    | Pipeline 4 | 0.8251 | 0.7908 | 0.7460 | 0.6773 | 0.6017 | 0.4897 | 0.3450 | 0.1666 | 0.0547 | 0.0049 | 0.4702 | 0.7034 |\n",
    "    | Pipeline 5 | 0.8182 | 0.7800 | 0.7367 | 0.6680 | 0.6002 | 0.4869 | 0.3350 | 0.1555 | 0.0523 | 0.0038 | 0.4636 | 0.6971 |\n",
    "    | Pipeline 6 | 0.8277 | 0.7926 | 0.7246 | 0.6484 | 0.5602 | 0.4626 | 0.3256 | 0.1656 | 0.0509 | 0.0031 | 0.4561 | 0.6937 |\n",
    "    "
   ]
  },
  {
   "cell_type": "code",
   "execution_count": null,
   "metadata": {},
   "outputs": [],
   "source": []
  }
 ],
 "metadata": {
  "kernelspec": {
   "display_name": "Python 3",
   "language": "python",
   "name": "python3"
  },
  "language_info": {
   "codemirror_mode": {
    "name": "ipython",
    "version": 3
   },
   "file_extension": ".py",
   "mimetype": "text/x-python",
   "name": "python",
   "nbconvert_exporter": "python",
   "pygments_lexer": "ipython3",
   "version": "3.8.5"
  }
 },
 "nbformat": 4,
 "nbformat_minor": 2
}
