{
 "cells": [
  {
   "cell_type": "markdown",
   "metadata": {},
   "source": [
    "### Make nuclei intensity measurements plots with and without illumination correction."
   ]
  },
  {
   "cell_type": "code",
   "execution_count": 1,
   "metadata": {},
   "outputs": [],
   "source": [
    "import matplotlib.pyplot as plt\n",
    "import pandas as pd\n",
    "import numpy as np\n",
    "\n",
    "df_with = pd.read_csv(\"/home/marmia/snic2020-6-41/Mariam/Mariam_Thesis/Results_Pipelines_Images/Results/CSVs_For_Plotting_CellsAndNuclei_Validation/Nuclei_withANDwithout_Illum/MyExpt_Nuclei_with.csv\") \n",
    "\n",
    "out = open('Nuclei_with.csv', 'w')\n",
    "print('ImageNumber', 'Step' , sep = ',', file = out)\n",
    "\n",
    "images = df_with.ImageNumber.unique()\n",
    "for i in range(len(images)):\n",
    "    step_list= []\n",
    "    data = df_with.loc[df_with.ImageNumber == images[i]].reset_index()\n",
    "    intensity = data.Intensity_IntegratedIntensity_Enhance_Nuclei_With\n",
    "    for j in range(len(intensity)):\n",
    "        step = 0\n",
    "        while True:\n",
    "            if data.Intensity_IntegratedIntensity_Enhance_Nuclei_With[j] < step:\n",
    "                step_list.append(step)\n",
    "                break\n",
    "            step = step+5\n",
    "    for x in step_list:\n",
    "        print(images[i],x, sep =',', file = out)\n",
    "            \n",
    "        \n"
   ]
  },
  {
   "cell_type": "code",
   "execution_count": 4,
   "metadata": {},
   "outputs": [],
   "source": [
    "import matplotlib.pyplot as plt\n",
    "import pandas as pd\n",
    "import numpy as np\n",
    "\n",
    "df_without = pd.read_csv(\"/home/marmia/snic2020-6-41/Mariam/Mariam_Thesis/Results_Pipelines_Images/Results/CSVs_For_Plotting_CellsAndNuclei_Validation/Nuclei_withANDwithout_Illum/MyExpt_Nuclei_without.csv\") \n",
    "\n",
    "out = open('Nuclei_without.csv', 'w')\n",
    "print('ImageNumber', 'Step' , sep = ',', file = out)\n",
    "\n",
    "images = df_without.ImageNumber.unique()\n",
    "for i in range(len(images)):\n",
    "    step_list= []\n",
    "    data = df_without.loc[df_without.ImageNumber == images[i]].reset_index()\n",
    "    intensity = data.Intensity_IntegratedIntensity_Enhance_Nuclei_With\n",
    "    for j in range(len(intensity)):\n",
    "        step = 0\n",
    "        while True:\n",
    "            if data.Intensity_IntegratedIntensity_Enhance_Nuclei_With[j] < step:\n",
    "                step_list.append(step)\n",
    "                break\n",
    "            step = step+5\n",
    "    for x in step_list:\n",
    "        print(images[i],x, sep =',', file = out)\n",
    "            \n",
    "        \n"
   ]
  },
  {
   "cell_type": "code",
   "execution_count": 5,
   "metadata": {},
   "outputs": [
    {
     "data": {
      "image/png": "[encoded data removed]",
      "text/plain": [
       "<Figure size 1080x576 with 1 Axes>"
      ]
     },
     "metadata": {
      "needs_background": "light"
     },
     "output_type": "display_data"
    }
   ],
   "source": [
    "df_with = pd.read_csv(\"Nuclei_with.csv\") \n",
    "df_without = pd.read_csv(\"Nuclei_without.csv\") \n",
    "\n",
    "step_with = df_with.Step\n",
    "step_without = df_without.Step\n",
    "\n",
    "plt.rcParams[\"figure.figsize\"] = (15,8) \n",
    "plt.hist(step_with, bins = 60, alpha = 0.5,color='pink',label = 'With illumination correction')\n",
    "plt.hist(step_without, bins = 60, alpha = 0.5, color='powderblue', label = 'Without illumination correction')\n",
    "\n",
    "plt.xticks(np.arange(400, step=50))\n",
    "plt.xlabel('Nuclei intensity')\n",
    "plt.ylabel('Number of nuclei')\n",
    "plt.legend(loc='upper right')\n",
    "plt.savefig('Nuclei_withAndWithout_Illum_intens.png');\n",
    "\n"
   ]
  }
 ],
 "metadata": {
  "kernelspec": {
   "display_name": "Python 3",
   "language": "python",
   "name": "python3"
  },
  "language_info": {
   "codemirror_mode": {
    "name": "ipython",
    "version": 3
   },
   "file_extension": ".py",
   "mimetype": "text/x-python",
   "name": "python",
   "nbconvert_exporter": "python",
   "pygments_lexer": "ipython3",
   "version": "3.7.0"
  }
 },
 "nbformat": 4,
 "nbformat_minor": 2
}
