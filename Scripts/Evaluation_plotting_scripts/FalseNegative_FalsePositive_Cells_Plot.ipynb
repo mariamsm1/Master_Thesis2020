{
 "cells": [
  {
   "cell_type": "code",
   "execution_count": 5,
   "metadata": {},
   "outputs": [
    {
     "data": {
      "image/png": "[encoded data removed]",
      "text/plain": [
       "<Figure size 864x360 with 1 Axes>"
      ]
     },
     "metadata": {
      "needs_background": "light"
     },
     "output_type": "display_data"
    }
   ],
   "source": [
    "#FNs plot for cells\n",
    "\n",
    "import numpy as np\n",
    "import matplotlib.pyplot as plt\n",
    "from matplotlib import rc\n",
    "import pandas as pd\n",
    "pipelines = ['pipeline1','pipeline2','pipeline3']\n",
    "\n",
    "#add the FN values for each size for pipe1,2,3 respectively\n",
    "Small_cells = [147,155,154]\n",
    "Medium_cells = [24,23,22]\n",
    "Large_cells = [4,4,4]\n",
    "\n",
    "#total is FN+TP (obtained from evaluation), sum then add below\n",
    "total = 520\n",
    "SmallCells = [(i / total * 100) for i in Small_cells]\n",
    "MediumCells = [(i / total * 100) for i in Medium_cells]\n",
    "LargeCells = [(i / total * 100) for i in Large_cells]\n",
    "\n",
    "r = [0,1,2]\n",
    "raw_data = {'Small cells': SmallCells,'Medium cells': MediumCells, 'Large cells': LargeCells}\n",
    "\n",
    "df = pd.DataFrame(raw_data, index = pipelines)\n",
    " \n",
    "\n",
    "plt.figure(figsize = (12,5))\n",
    "\n",
    "plt.bar(r, SmallCells, color='powderblue', width=0.3)\n",
    "plt.bar(r, MediumCells,  bottom=SmallCells, color='orchid', width=0.3)\n",
    "plt.bar(r, LargeCells, bottom = [i+j for i,j in zip(SmallCells, MediumCells)], color = 'palegreen', width = 0.3)\n",
    "\n",
    "plt.xticks(r, pipelines, rotation = 0)\n",
    "plt.ylabel('False negative rate')\n",
    "plt.legend(raw_data)\n",
    "\n",
    "plt.show()"
   ]
  },
  {
   "cell_type": "code",
   "execution_count": 2,
   "metadata": {},
   "outputs": [
    {
     "data": {
      "text/html": [
       "<div>\n",
       "<style scoped>\n",
       "    .dataframe tbody tr th:only-of-type {\n",
       "        vertical-align: middle;\n",
       "    }\n",
       "\n",
       "    .dataframe tbody tr th {\n",
       "        vertical-align: top;\n",
       "    }\n",
       "\n",
       "    .dataframe thead th {\n",
       "        text-align: right;\n",
       "    }\n",
       "</style>\n",
       "<table border=\"1\" class=\"dataframe\">\n",
       "  <thead>\n",
       "    <tr style=\"text-align: right;\">\n",
       "      <th></th>\n",
       "      <th>Small cells</th>\n",
       "      <th>Medium cells</th>\n",
       "      <th>Large cells</th>\n",
       "    </tr>\n",
       "  </thead>\n",
       "  <tbody>\n",
       "    <tr>\n",
       "      <th>pipeline1</th>\n",
       "      <td>28.269%</td>\n",
       "      <td>4.615%</td>\n",
       "      <td>0.769%</td>\n",
       "    </tr>\n",
       "    <tr>\n",
       "      <th>pipeline2</th>\n",
       "      <td>29.808%</td>\n",
       "      <td>4.423%</td>\n",
       "      <td>0.769%</td>\n",
       "    </tr>\n",
       "    <tr>\n",
       "      <th>pipeline3</th>\n",
       "      <td>29.615%</td>\n",
       "      <td>4.231%</td>\n",
       "      <td>0.769%</td>\n",
       "    </tr>\n",
       "  </tbody>\n",
       "</table>\n",
       "</div>"
      ],
      "text/plain": [
       "          Small cells Medium cells Large cells\n",
       "pipeline1     28.269%       4.615%      0.769%\n",
       "pipeline2     29.808%       4.423%      0.769%\n",
       "pipeline3     29.615%       4.231%      0.769%"
      ]
     },
     "metadata": {},
     "output_type": "display_data"
    }
   ],
   "source": [
    "raw_data2 = {'Small cells':[str(\"%.3f\" % i)+'%' for i in SmallCells],'Medium cells': [str(\"%.3f\" % i)+'%' for i in MediumCells], 'Large cells': [str(\"%.3f\" % i)+'%' for i in LargeCells]}\n",
    "df = pd.DataFrame(raw_data2, index = pipelines)\n",
    "display(df)\n"
   ]
  },
  {
   "cell_type": "code",
   "execution_count": 3,
   "metadata": {},
   "outputs": [
    {
     "data": {
      "image/png": "[encoded data removed]",
      "text/plain": [
       "<Figure size 864x360 with 1 Axes>"
      ]
     },
     "metadata": {
      "needs_background": "light"
     },
     "output_type": "display_data"
    }
   ],
   "source": [
    "#FDR plot for Cells\n",
    "\n",
    "import numpy as np\n",
    "import matplotlib.pyplot as plt\n",
    "from matplotlib import rc\n",
    "import pandas as pd\n",
    "\n",
    "pipelines = ['pipeline1','pipeline2','pipeline3']\n",
    "\n",
    "#add the FDR values for pipe1,2,3 respectively\n",
    "FDR = [0.3699,0.3847,0.3805]\n",
    "\n",
    "\n",
    "percent_FDR = [i*100 for i in FDR ] \n",
    "\n",
    "r = [0,1,2] \n",
    "plt.figure(figsize = (12,5))\n",
    "    \n",
    "plt.bar(r[0], percent_FDR[0], color = 'powderblue',width=0.2, label = 'Threshold 0.7')\n",
    "plt.bar(r[1], percent_FDR[1], color = 'powderblue', width=0.2)\n",
    "plt.bar(r[2], percent_FDR[2], color = 'powderblue',width = 0.2)\n",
    "\n",
    "plt.xticks(r, pipelines, rotation = 0)\n",
    "plt.ylabel('False discovery rate')\n",
    "plt.legend()\n",
    "\n",
    "plt.show()"
   ]
  },
  {
   "cell_type": "code",
   "execution_count": 4,
   "metadata": {},
   "outputs": [
    {
     "data": {
      "text/html": [
       "<div>\n",
       "<style scoped>\n",
       "    .dataframe tbody tr th:only-of-type {\n",
       "        vertical-align: middle;\n",
       "    }\n",
       "\n",
       "    .dataframe tbody tr th {\n",
       "        vertical-align: top;\n",
       "    }\n",
       "\n",
       "    .dataframe thead th {\n",
       "        text-align: right;\n",
       "    }\n",
       "</style>\n",
       "<table border=\"1\" class=\"dataframe\">\n",
       "  <thead>\n",
       "    <tr style=\"text-align: right;\">\n",
       "      <th></th>\n",
       "      <th>70% Threshold</th>\n",
       "    </tr>\n",
       "  </thead>\n",
       "  <tbody>\n",
       "    <tr>\n",
       "      <th>pipeline1</th>\n",
       "      <td>36.990%</td>\n",
       "    </tr>\n",
       "    <tr>\n",
       "      <th>pipeline2</th>\n",
       "      <td>38.470%</td>\n",
       "    </tr>\n",
       "    <tr>\n",
       "      <th>pipeline3</th>\n",
       "      <td>38.050%</td>\n",
       "    </tr>\n",
       "  </tbody>\n",
       "</table>\n",
       "</div>"
      ],
      "text/plain": [
       "          70% Threshold\n",
       "pipeline1       36.990%\n",
       "pipeline2       38.470%\n",
       "pipeline3       38.050%"
      ]
     },
     "metadata": {},
     "output_type": "display_data"
    }
   ],
   "source": [
    "df = pd.DataFrame([str(\"%.3f\" % i)+'%' for i in percent_FDR], index = pipelines, columns = ['70% Threshold'])\n",
    "display(df)"
   ]
  }
 ],
 "metadata": {
  "kernelspec": {
   "display_name": "Python 3",
   "language": "python",
   "name": "python3"
  },
  "language_info": {
   "codemirror_mode": {
    "name": "ipython",
    "version": 3
   },
   "file_extension": ".py",
   "mimetype": "text/x-python",
   "name": "python",
   "nbconvert_exporter": "python",
   "pygments_lexer": "ipython3",
   "version": "3.7.0"
  }
 },
 "nbformat": 4,
 "nbformat_minor": 2
}
